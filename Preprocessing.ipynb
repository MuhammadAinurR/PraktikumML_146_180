{
  "nbformat": 4,
  "nbformat_minor": 0,
  "metadata": {
    "colab": {
      "name": "Preprocessing.ipynb",
      "provenance": [],
      "collapsed_sections": []
    },
    "kernelspec": {
      "name": "python3",
      "display_name": "Python 3"
    },
    "language_info": {
      "name": "python"
    },
    "widgets": {
      "application/vnd.jupyter.widget-state+json": {
        "ed25190a5b864ffc8cd3cac43993aeb3": {
          "model_module": "@jupyter-widgets/controls",
          "model_name": "HBoxModel",
          "model_module_version": "1.5.0",
          "state": {
            "_view_name": "HBoxView",
            "_dom_classes": [],
            "_model_name": "HBoxModel",
            "_view_module": "@jupyter-widgets/controls",
            "_model_module_version": "1.5.0",
            "_view_count": null,
            "_view_module_version": "1.5.0",
            "box_style": "",
            "layout": "IPY_MODEL_3bcb8ca612bf46b9a49a99d71a37a34c",
            "_model_module": "@jupyter-widgets/controls",
            "children": [
              "IPY_MODEL_c85eba31261543bf9c4dbdd8a1817afc",
              "IPY_MODEL_fa764615442f4661888387b5087f006e",
              "IPY_MODEL_186b2fbf5b194ad48041582230a4020a"
            ]
          }
        },
        "3bcb8ca612bf46b9a49a99d71a37a34c": {
          "model_module": "@jupyter-widgets/base",
          "model_name": "LayoutModel",
          "model_module_version": "1.2.0",
          "state": {
            "_view_name": "LayoutView",
            "grid_template_rows": null,
            "right": null,
            "justify_content": null,
            "_view_module": "@jupyter-widgets/base",
            "overflow": null,
            "_model_module_version": "1.2.0",
            "_view_count": null,
            "flex_flow": null,
            "width": null,
            "min_width": null,
            "border": null,
            "align_items": null,
            "bottom": null,
            "_model_module": "@jupyter-widgets/base",
            "top": null,
            "grid_column": null,
            "overflow_y": null,
            "overflow_x": null,
            "grid_auto_flow": null,
            "grid_area": null,
            "grid_template_columns": null,
            "flex": null,
            "_model_name": "LayoutModel",
            "justify_items": null,
            "grid_row": null,
            "max_height": null,
            "align_content": null,
            "visibility": null,
            "align_self": null,
            "height": null,
            "min_height": null,
            "padding": null,
            "grid_auto_rows": null,
            "grid_gap": null,
            "max_width": null,
            "order": null,
            "_view_module_version": "1.2.0",
            "grid_template_areas": null,
            "object_position": null,
            "object_fit": null,
            "grid_auto_columns": null,
            "margin": null,
            "display": null,
            "left": null
          }
        },
        "c85eba31261543bf9c4dbdd8a1817afc": {
          "model_module": "@jupyter-widgets/controls",
          "model_name": "HTMLModel",
          "model_module_version": "1.5.0",
          "state": {
            "_view_name": "HTMLView",
            "style": "IPY_MODEL_0cb96441fed04576a56a431442123c2a",
            "_dom_classes": [],
            "description": "",
            "_model_name": "HTMLModel",
            "placeholder": "​",
            "_view_module": "@jupyter-widgets/controls",
            "_model_module_version": "1.5.0",
            "value": "",
            "_view_count": null,
            "_view_module_version": "1.5.0",
            "description_tooltip": null,
            "_model_module": "@jupyter-widgets/controls",
            "layout": "IPY_MODEL_ec9493a24cf940aa9c92972c159b993b"
          }
        },
        "fa764615442f4661888387b5087f006e": {
          "model_module": "@jupyter-widgets/controls",
          "model_name": "FloatProgressModel",
          "model_module_version": "1.5.0",
          "state": {
            "_view_name": "ProgressView",
            "style": "IPY_MODEL_2bc1b91e63eb4658972b764592175440",
            "_dom_classes": [],
            "description": "",
            "_model_name": "FloatProgressModel",
            "bar_style": "success",
            "max": 1,
            "_view_module": "@jupyter-widgets/controls",
            "_model_module_version": "1.5.0",
            "value": 1,
            "_view_count": null,
            "_view_module_version": "1.5.0",
            "orientation": "horizontal",
            "min": 0,
            "description_tooltip": null,
            "_model_module": "@jupyter-widgets/controls",
            "layout": "IPY_MODEL_8793d265a6dd4895805aff917e2d9da9"
          }
        },
        "186b2fbf5b194ad48041582230a4020a": {
          "model_module": "@jupyter-widgets/controls",
          "model_name": "HTMLModel",
          "model_module_version": "1.5.0",
          "state": {
            "_view_name": "HTMLView",
            "style": "IPY_MODEL_cfcdc0ca2f014867bc899629ff0067d7",
            "_dom_classes": [],
            "description": "",
            "_model_name": "HTMLModel",
            "placeholder": "​",
            "_view_module": "@jupyter-widgets/controls",
            "_model_module_version": "1.5.0",
            "value": " 5287/? [00:44&lt;00:00, 88.00it/s]",
            "_view_count": null,
            "_view_module_version": "1.5.0",
            "description_tooltip": null,
            "_model_module": "@jupyter-widgets/controls",
            "layout": "IPY_MODEL_c90d6e8e2eb942cfbe8f87bd3afedfb3"
          }
        },
        "0cb96441fed04576a56a431442123c2a": {
          "model_module": "@jupyter-widgets/controls",
          "model_name": "DescriptionStyleModel",
          "model_module_version": "1.5.0",
          "state": {
            "_view_name": "StyleView",
            "_model_name": "DescriptionStyleModel",
            "description_width": "",
            "_view_module": "@jupyter-widgets/base",
            "_model_module_version": "1.5.0",
            "_view_count": null,
            "_view_module_version": "1.2.0",
            "_model_module": "@jupyter-widgets/controls"
          }
        },
        "ec9493a24cf940aa9c92972c159b993b": {
          "model_module": "@jupyter-widgets/base",
          "model_name": "LayoutModel",
          "model_module_version": "1.2.0",
          "state": {
            "_view_name": "LayoutView",
            "grid_template_rows": null,
            "right": null,
            "justify_content": null,
            "_view_module": "@jupyter-widgets/base",
            "overflow": null,
            "_model_module_version": "1.2.0",
            "_view_count": null,
            "flex_flow": null,
            "width": null,
            "min_width": null,
            "border": null,
            "align_items": null,
            "bottom": null,
            "_model_module": "@jupyter-widgets/base",
            "top": null,
            "grid_column": null,
            "overflow_y": null,
            "overflow_x": null,
            "grid_auto_flow": null,
            "grid_area": null,
            "grid_template_columns": null,
            "flex": null,
            "_model_name": "LayoutModel",
            "justify_items": null,
            "grid_row": null,
            "max_height": null,
            "align_content": null,
            "visibility": null,
            "align_self": null,
            "height": null,
            "min_height": null,
            "padding": null,
            "grid_auto_rows": null,
            "grid_gap": null,
            "max_width": null,
            "order": null,
            "_view_module_version": "1.2.0",
            "grid_template_areas": null,
            "object_position": null,
            "object_fit": null,
            "grid_auto_columns": null,
            "margin": null,
            "display": null,
            "left": null
          }
        },
        "2bc1b91e63eb4658972b764592175440": {
          "model_module": "@jupyter-widgets/controls",
          "model_name": "ProgressStyleModel",
          "model_module_version": "1.5.0",
          "state": {
            "_view_name": "StyleView",
            "_model_name": "ProgressStyleModel",
            "description_width": "",
            "_view_module": "@jupyter-widgets/base",
            "_model_module_version": "1.5.0",
            "_view_count": null,
            "_view_module_version": "1.2.0",
            "bar_color": null,
            "_model_module": "@jupyter-widgets/controls"
          }
        },
        "8793d265a6dd4895805aff917e2d9da9": {
          "model_module": "@jupyter-widgets/base",
          "model_name": "LayoutModel",
          "model_module_version": "1.2.0",
          "state": {
            "_view_name": "LayoutView",
            "grid_template_rows": null,
            "right": null,
            "justify_content": null,
            "_view_module": "@jupyter-widgets/base",
            "overflow": null,
            "_model_module_version": "1.2.0",
            "_view_count": null,
            "flex_flow": null,
            "width": "20px",
            "min_width": null,
            "border": null,
            "align_items": null,
            "bottom": null,
            "_model_module": "@jupyter-widgets/base",
            "top": null,
            "grid_column": null,
            "overflow_y": null,
            "overflow_x": null,
            "grid_auto_flow": null,
            "grid_area": null,
            "grid_template_columns": null,
            "flex": null,
            "_model_name": "LayoutModel",
            "justify_items": null,
            "grid_row": null,
            "max_height": null,
            "align_content": null,
            "visibility": null,
            "align_self": null,
            "height": null,
            "min_height": null,
            "padding": null,
            "grid_auto_rows": null,
            "grid_gap": null,
            "max_width": null,
            "order": null,
            "_view_module_version": "1.2.0",
            "grid_template_areas": null,
            "object_position": null,
            "object_fit": null,
            "grid_auto_columns": null,
            "margin": null,
            "display": null,
            "left": null
          }
        },
        "cfcdc0ca2f014867bc899629ff0067d7": {
          "model_module": "@jupyter-widgets/controls",
          "model_name": "DescriptionStyleModel",
          "model_module_version": "1.5.0",
          "state": {
            "_view_name": "StyleView",
            "_model_name": "DescriptionStyleModel",
            "description_width": "",
            "_view_module": "@jupyter-widgets/base",
            "_model_module_version": "1.5.0",
            "_view_count": null,
            "_view_module_version": "1.2.0",
            "_model_module": "@jupyter-widgets/controls"
          }
        },
        "c90d6e8e2eb942cfbe8f87bd3afedfb3": {
          "model_module": "@jupyter-widgets/base",
          "model_name": "LayoutModel",
          "model_module_version": "1.2.0",
          "state": {
            "_view_name": "LayoutView",
            "grid_template_rows": null,
            "right": null,
            "justify_content": null,
            "_view_module": "@jupyter-widgets/base",
            "overflow": null,
            "_model_module_version": "1.2.0",
            "_view_count": null,
            "flex_flow": null,
            "width": null,
            "min_width": null,
            "border": null,
            "align_items": null,
            "bottom": null,
            "_model_module": "@jupyter-widgets/base",
            "top": null,
            "grid_column": null,
            "overflow_y": null,
            "overflow_x": null,
            "grid_auto_flow": null,
            "grid_area": null,
            "grid_template_columns": null,
            "flex": null,
            "_model_name": "LayoutModel",
            "justify_items": null,
            "grid_row": null,
            "max_height": null,
            "align_content": null,
            "visibility": null,
            "align_self": null,
            "height": null,
            "min_height": null,
            "padding": null,
            "grid_auto_rows": null,
            "grid_gap": null,
            "max_width": null,
            "order": null,
            "_view_module_version": "1.2.0",
            "grid_template_areas": null,
            "object_position": null,
            "object_fit": null,
            "grid_auto_columns": null,
            "margin": null,
            "display": null,
            "left": null
          }
        }
      }
    },
    "accelerator": "GPU"
  },
  "cells": [
    {
      "cell_type": "markdown",
      "metadata": {
        "id": "izGSCs4LnGI6"
      },
      "source": [
        "# Load Data\n",
        "\n",
        "www.kaggle.com/moltean/fruits?select=fruits-360_dataset"
      ]
    },
    {
      "cell_type": "code",
      "metadata": {
        "id": "Av_ZFezLn0QC"
      },
      "source": [
        "import pandas as pd\n",
        "import numpy as np\n",
        "import os, zipfile, cv2, shutil, math\n",
        "import matplotlib.pyplot as plt\n",
        "import matplotlib.image as mpimg\n",
        "import tensorflow as tf\n",
        "from PIL import Image\n",
        "%matplotlib inline\n",
        "from sklearn.preprocessing import LabelEncoder\n",
        "from sklearn.model_selection import train_test_split\n",
        "from sklearn.metrics import classification_report\n",
        "from tqdm.notebook import tqdm as tq\n",
        "from tensorflow.keras.optimizers import Adam\n",
        "from keras import optimizers\n",
        "from keras.preprocessing import image\n",
        "from tensorflow.keras.models import Sequential\n",
        "from tensorflow.keras.layers import InputLayer, Dense, Conv2D, MaxPool2D, Flatten, GlobalMaxPooling2D, GlobalAveragePooling2D, AveragePooling2D\n",
        "from google.colab import drive"
      ],
      "execution_count": null,
      "outputs": []
    },
    {
      "cell_type": "code",
      "metadata": {
        "colab": {
          "base_uri": "https://localhost:8080/"
        },
        "id": "yPDM78XuoTAJ",
        "outputId": "b62d8888-8fd5-4e77-fecc-4af93ac245fe"
      },
      "source": [
        "from google.colab import drive\n",
        "drive.mount('/content/drive')\n",
        "%cd /content/drive/MyDrive/Kaggle/"
      ],
      "execution_count": null,
      "outputs": [
        {
          "output_type": "stream",
          "name": "stdout",
          "text": [
            "Mounted at /content/drive\n",
            "/content/drive/MyDrive/Kaggle\n"
          ]
        }
      ]
    },
    {
      "cell_type": "code",
      "metadata": {
        "colab": {
          "base_uri": "https://localhost:8080/"
        },
        "id": "iHmvIitSG0h8",
        "outputId": "49624a55-a172-4173-b37d-ff610dbf95c7"
      },
      "source": [
        "ls"
      ],
      "execution_count": null,
      "outputs": [
        {
          "output_type": "stream",
          "name": "stdout",
          "text": [
            "\u001b[0m\u001b[01;34mfruits-360_dataset\u001b[0m/  \u001b[01;34mfruits-360-original-size\u001b[0m/  fruits.zip  \u001b[01;34mmodel_fruits\u001b[0m/\n"
          ]
        }
      ]
    },
    {
      "cell_type": "code",
      "metadata": {
        "id": "cbSuGCCiHJGR"
      },
      "source": [
        "local_zip = '/content/drive/MyDrive/Kaggle/fruits.zip'\n",
        "zip_ref = zipfile.ZipFile(local_zip, 'r')\n",
        "zip_ref.extractall('/content/drive/MyDrive/Kaggle')\n",
        "zip_ref.close()"
      ],
      "execution_count": null,
      "outputs": []
    },
    {
      "cell_type": "code",
      "metadata": {
        "colab": {
          "base_uri": "https://localhost:8080/"
        },
        "id": "wnBhuXJpIr29",
        "outputId": "6179c1be-1994-488d-c01e-4d95d1703ad9"
      },
      "source": [
        "os.listdir('/content/drive/MyDrive/Kaggle/fruits-360-original-size/fruits-360-original-size/Test')"
      ],
      "execution_count": null,
      "outputs": [
        {
          "output_type": "execute_result",
          "data": {
            "text/plain": [
              "['apple_6',\n",
              " 'apple_braeburn_1',\n",
              " 'apple_crimson_snow_1',\n",
              " 'apple_golden_1',\n",
              " 'apple_golden_2',\n",
              " 'apple_golden_3',\n",
              " 'apple_granny_smith_1',\n",
              " 'apple_hit_1',\n",
              " 'apple_pink_lady_1',\n",
              " 'apple_red_1',\n",
              " 'apple_red_2',\n",
              " 'apple_red_3',\n",
              " 'apple_red_delicios_1',\n",
              " 'apple_red_yellow_1',\n",
              " 'apple_rotten_1',\n",
              " 'cabbage_white_1',\n",
              " 'carrot_1',\n",
              " 'cucumber_1',\n",
              " 'cucumber_3',\n",
              " 'eggplant_violet_1',\n",
              " 'pear_1',\n",
              " 'pear_3',\n",
              " 'zucchini_1',\n",
              " 'zucchini_dark_1']"
            ]
          },
          "metadata": {},
          "execution_count": 5
        }
      ]
    },
    {
      "cell_type": "code",
      "metadata": {
        "id": "BsR0pQhQxM_R"
      },
      "source": [
        "base_dataset = '/content/drive/MyDrive/Kaggle/fruits-360-original-size/fruits-360-original-size/Test'\n",
        "class_dir = ['apple_6',\n",
        " 'apple_braeburn_1',\n",
        " 'apple_crimson_snow_1',\n",
        " 'apple_golden_1',\n",
        " 'apple_golden_2',\n",
        " 'apple_golden_3',\n",
        " 'apple_granny_smith_1',\n",
        " 'apple_hit_1',\n",
        " 'apple_pink_lady_1',\n",
        " 'apple_red_1',\n",
        " 'apple_red_2',\n",
        " 'apple_red_3',\n",
        " 'apple_red_delicios_1',\n",
        " 'apple_red_yellow_1',\n",
        " 'apple_rotten_1',\n",
        " 'cabbage_white_1',\n",
        " 'carrot_1',\n",
        " 'cucumber_1',\n",
        " 'cucumber_3',\n",
        " 'eggplant_violet_1',\n",
        " 'pear_1',\n",
        " 'pear_3',\n",
        " 'zucchini_1',\n",
        " 'zucchini_dark_1']\n",
        "for class_item in class_dir:\n",
        "  cur_dir = base_dataset + '/' + class_item + '/'\n",
        "  dataset = os.listdir(cur_dir)\n",
        "  for item in dataset :\n",
        "    im = Image.open(f\"{cur_dir}{item}\")\n",
        "    if item.endswith('.jpg'):\n",
        "      im.save(f\"{cur_dir}{item.split('.')[0]}.png\", \"png\")\n",
        "    else :\n",
        "      im.save(f\"{cur_dir}{item.split('.')[0]}.png\", \"png\")\n",
        "  for item in dataset :\n",
        "    if not item.endswith('.png'):\n",
        "      os.remove(os.path.join(cur_dir, item))"
      ],
      "execution_count": null,
      "outputs": []
    },
    {
      "cell_type": "code",
      "metadata": {
        "id": "18g3qkkCH8H5"
      },
      "source": [
        "file_name = []\n",
        "tag = []\n",
        "full_path = []\n",
        "for path, subdirs, files in os.walk(base_dataset):\n",
        "    for name in files:\n",
        "        full_path.append(os.path.join(path, name)) \n",
        "        tag.append(path.split('/')[-1])        \n",
        "        file_name.append(name)"
      ],
      "execution_count": null,
      "outputs": []
    },
    {
      "cell_type": "code",
      "metadata": {
        "colab": {
          "base_uri": "https://localhost:8080/"
        },
        "id": "P8RteS8lI7Xs",
        "outputId": "e59ee3f8-821f-463a-bbfd-fd5324ec3cca"
      },
      "source": [
        "# membuat dataframe dari variabel baru\n",
        "data = pd.DataFrame({'path':full_path,'file_name':file_name,'tag':tag})\n",
        "print(data.groupby(['tag']).size())"
      ],
      "execution_count": null,
      "outputs": [
        {
          "output_type": "stream",
          "name": "stdout",
          "text": [
            "tag\n",
            "apple_6                 157\n",
            "apple_braeburn_1        160\n",
            "apple_crimson_snow_1    159\n",
            "apple_golden_1          154\n",
            "apple_golden_2          154\n",
            "apple_golden_3          158\n",
            "apple_granny_smith_1    160\n",
            "apple_hit_1             234\n",
            "apple_pink_lady_1       156\n",
            "apple_red_1             154\n",
            "apple_red_2             159\n",
            "apple_red_3             140\n",
            "apple_red_delicios_1    150\n",
            "apple_red_yellow_1      154\n",
            "apple_rotten_1          159\n",
            "cabbage_white_1          47\n",
            "carrot_1                 50\n",
            "cucumber_1               50\n",
            "cucumber_3               81\n",
            "eggplant_violet_1        80\n",
            "pear_1                  162\n",
            "pear_3                   72\n",
            "zucchini_1               80\n",
            "zucchini_dark_1          80\n",
            "dtype: int64\n"
          ]
        }
      ]
    },
    {
      "cell_type": "code",
      "metadata": {
        "id": "rLQ6JvqKI9z5"
      },
      "source": [
        "x = data['path']\n",
        "y = data['tag']"
      ],
      "execution_count": null,
      "outputs": []
    },
    {
      "cell_type": "code",
      "metadata": {
        "id": "_b7tZVUJJSfE"
      },
      "source": [
        "X_train, X_val, y_train, y_val = train_test_split(x, y, test_size=0.30)"
      ],
      "execution_count": null,
      "outputs": []
    },
    {
      "cell_type": "code",
      "metadata": {
        "id": "38X9CVDeJTx3"
      },
      "source": [
        "# menyatukan ke dalam masing-masing dataframe\n",
        "data_tr = pd.DataFrame({'path':X_train, 'tag':y_train, 'set':'training'})\n",
        "\n",
        "data_val = pd.DataFrame({'path':X_val, 'tag':y_val, 'set':'validation'})"
      ],
      "execution_count": null,
      "outputs": []
    },
    {
      "cell_type": "code",
      "metadata": {
        "colab": {
          "base_uri": "https://localhost:8080/"
        },
        "id": "NlDK-mN7Kok3",
        "outputId": "5d27d252-e1aa-4a21-cf5b-84adab6cf4ec"
      },
      "source": [
        "print('train size', len(data_tr))\n",
        "print('val size', len(data_val))"
      ],
      "execution_count": null,
      "outputs": [
        {
          "output_type": "stream",
          "name": "stdout",
          "text": [
            "train size 2177\n",
            "val size 933\n"
          ]
        }
      ]
    },
    {
      "cell_type": "code",
      "metadata": {
        "colab": {
          "base_uri": "https://localhost:8080/",
          "height": 49,
          "referenced_widgets": [
            "ed25190a5b864ffc8cd3cac43993aeb3",
            "3bcb8ca612bf46b9a49a99d71a37a34c",
            "c85eba31261543bf9c4dbdd8a1817afc",
            "fa764615442f4661888387b5087f006e",
            "186b2fbf5b194ad48041582230a4020a",
            "0cb96441fed04576a56a431442123c2a",
            "ec9493a24cf940aa9c92972c159b993b",
            "2bc1b91e63eb4658972b764592175440",
            "8793d265a6dd4895805aff917e2d9da9",
            "cfcdc0ca2f014867bc899629ff0067d7",
            "c90d6e8e2eb942cfbe8f87bd3afedfb3"
          ]
        },
        "id": "oBCKcXsZJU_S",
        "outputId": "bf320cfd-4285-455d-8c4a-b0f632d295cf"
      },
      "source": [
        "dataset_path = '/content/drive/MyDrive/Kaggle/model_fruits'\n",
        "\n",
        "data_all = data_tr.append([data_tr, data_val]).reset_index(drop=1)\n",
        "\n",
        "for index, row in tq(data_all.iterrows()):\n",
        "    \n",
        "    #detect filepath\n",
        "    file_path = row['path']\n",
        "    if os.path.exists(file_path) == False:\n",
        "            file_path = os.path.join(datasource_path,row['tag'],row['image'].split('.')[0])            \n",
        "    \n",
        "    #make folder destination dirs\n",
        "    if os.path.exists(os.path.join(dataset_path,row['set'],row['tag'])) == False:\n",
        "        os.makedirs(os.path.join(dataset_path,row['set'],row['tag']))\n",
        "    \n",
        "    #define file dest\n",
        "    destination_file_name = file_path.split('/')[-1]\n",
        "    file_dest = os.path.join(dataset_path,row['set'],row['tag'],destination_file_name)\n",
        "    \n",
        "    #copy file from source to dest\n",
        "    if os.path.exists(file_dest) == False:\n",
        "        shutil.copy2(file_path,file_dest)"
      ],
      "execution_count": null,
      "outputs": [
        {
          "output_type": "display_data",
          "data": {
            "application/vnd.jupyter.widget-view+json": {
              "model_id": "ed25190a5b864ffc8cd3cac43993aeb3",
              "version_minor": 0,
              "version_major": 2
            },
            "text/plain": [
              "0it [00:00, ?it/s]"
            ]
          },
          "metadata": {}
        }
      ]
    },
    {
      "cell_type": "code",
      "metadata": {
        "colab": {
          "base_uri": "https://localhost:8080/"
        },
        "id": "vynaK4hEJw2h",
        "outputId": "86082573-49f9-4b90-be11-ea0739168165"
      },
      "source": [
        "os.listdir('/content/drive/MyDrive/Kaggle/model_fruits/training')"
      ],
      "execution_count": null,
      "outputs": [
        {
          "output_type": "execute_result",
          "data": {
            "text/plain": [
              "['cucumber_3',\n",
              " 'apple_hit_1',\n",
              " 'apple_red_3',\n",
              " 'apple_golden_1',\n",
              " 'pear_1',\n",
              " 'apple_red_delicios_1',\n",
              " 'apple_pink_lady_1',\n",
              " 'apple_braeburn_1',\n",
              " 'carrot_1',\n",
              " 'apple_golden_3',\n",
              " 'apple_red_1',\n",
              " 'eggplant_violet_1',\n",
              " 'pear_3',\n",
              " 'apple_red_yellow_1',\n",
              " 'cabbage_white_1',\n",
              " 'apple_granny_smith_1',\n",
              " 'cucumber_1',\n",
              " 'apple_golden_2',\n",
              " 'apple_crimson_snow_1',\n",
              " 'apple_red_2',\n",
              " 'apple_6',\n",
              " 'zucchini_1',\n",
              " 'apple_rotten_1',\n",
              " 'zucchini_dark_1']"
            ]
          },
          "metadata": {},
          "execution_count": 14
        }
      ]
    },
    {
      "cell_type": "markdown",
      "metadata": {
        "id": "6mYhJO1-HB_u"
      },
      "source": [
        "# Preprocessing"
      ]
    },
    {
      "cell_type": "code",
      "metadata": {
        "id": "hLZNVuUyKhNc"
      },
      "source": [
        "# Gather data train\n",
        "train_data = []\n",
        "train_label = []\n",
        "\n",
        "train_dir='/content/drive/MyDrive/Kaggle/model_fruits/training'\n",
        "for r, d, f in os.walk(train_dir):\n",
        "    for file in f:\n",
        "        if \".png\" in file:\n",
        "            imagePath = os.path.join(r, file)\n",
        "            image = cv2.imread(imagePath)\n",
        "            image = cv2.resize(image, (250,250))\n",
        "            train_data.append(image)\n",
        "            label = imagePath.split(os.path.sep)[-2]\n",
        "            train_label.append(label)\n",
        "\n",
        "train_data = np.array(train_data)\n",
        "train_label = np.array(train_label)"
      ],
      "execution_count": null,
      "outputs": []
    },
    {
      "cell_type": "code",
      "metadata": {
        "id": "ceJoCtYOK5pl"
      },
      "source": [
        "# Gather data validation\n",
        "val_data = []\n",
        "val_label = []\n",
        "\n",
        "vali_dir='/content/drive/MyDrive/Kaggle/model_fruits/validation'\n",
        "for r, d, f in os.walk(vali_dir):\n",
        "    for file in f:\n",
        "        if \".png\" in file:\n",
        "            imagePath = os.path.join(r, file)\n",
        "            image = cv2.imread(imagePath)\n",
        "            image = cv2.resize(image, (250,250))\n",
        "            val_data.append(image)\n",
        "            label = imagePath.split(os.path.sep)[-2]\n",
        "            val_label.append(label)\n",
        "\n",
        "val_data = np.array(val_data)\n",
        "val_label = np.array(val_label)"
      ],
      "execution_count": null,
      "outputs": []
    },
    {
      "cell_type": "code",
      "metadata": {
        "colab": {
          "base_uri": "https://localhost:8080/"
        },
        "id": "IrG-auhHLKWT",
        "outputId": "f26e5490-6037-44f7-862d-bdaedd678911"
      },
      "source": [
        "print('Data Training Shape : ', train_data.shape)\n",
        "print('Data Validation Shape : ', val_data.shape)"
      ],
      "execution_count": null,
      "outputs": [
        {
          "output_type": "stream",
          "name": "stdout",
          "text": [
            "Data Training Shape :  (2812, 250, 250, 3)\n",
            "Data Validation Shape :  (1568, 250, 250, 3)\n"
          ]
        }
      ]
    },
    {
      "cell_type": "code",
      "metadata": {
        "colab": {
          "base_uri": "https://localhost:8080/"
        },
        "id": "QlmjxTkTLLzx",
        "outputId": "2487cecc-d719-4a82-9255-b2f0115d9100"
      },
      "source": [
        "# Normalisasi dataset\n",
        "print(\"Data sebelum di-normalisasi \", train_data[0][0][0])\n",
        "\n",
        "X_train = train_data.astype('float32') / 255.0\n",
        "x_val = val_data.astype('float32') / 255.0\n",
        "print(\"Data setelah di-normalisasi \", X_train[0][0][0])"
      ],
      "execution_count": null,
      "outputs": [
        {
          "output_type": "stream",
          "name": "stdout",
          "text": [
            "Data sebelum di-normalisasi  [255 255 255]\n",
            "Data setelah di-normalisasi  [1. 1. 1.]\n"
          ]
        }
      ]
    },
    {
      "cell_type": "code",
      "metadata": {
        "colab": {
          "base_uri": "https://localhost:8080/"
        },
        "id": "LxdFTn8qLZoT",
        "outputId": "5da73977-d0c2-43da-f2a9-e44fc1450a26"
      },
      "source": [
        "# Transformasi label encoder\n",
        "print('Label sebelum di-encoder ', train_label[2166:2176])\n",
        "\n",
        "lb = LabelEncoder()\n",
        "y_train = lb.fit_transform(train_label)\n",
        "y_val = lb.fit_transform(val_label)\n",
        "\n",
        "print('Label setelah di-encoder ', y_train[2166:2176])"
      ],
      "execution_count": null,
      "outputs": [
        {
          "output_type": "stream",
          "name": "stdout",
          "text": [
            "Label sebelum di-encoder  ['apple_crimson_snow_1' 'apple_crimson_snow_1' 'apple_crimson_snow_1'\n",
            " 'apple_crimson_snow_1' 'apple_crimson_snow_1' 'apple_crimson_snow_1'\n",
            " 'apple_crimson_snow_1' 'apple_crimson_snow_1' 'apple_crimson_snow_1'\n",
            " 'apple_crimson_snow_1']\n",
            "Label setelah di-encoder  [2 2 2 2 2 2 2 2 2 2]\n"
          ]
        }
      ]
    }
  ]
}
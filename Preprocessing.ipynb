{
  "nbformat": 4,
  "nbformat_minor": 0,
  "metadata": {
    "colab": {
      "name": "Tugasbeasdasdasdsar.ipynb",
      "provenance": [],
      "collapsed_sections": []
    },
    "kernelspec": {
      "name": "python3",
      "display_name": "Python 3"
    },
    "language_info": {
      "name": "python"
    },
    "widgets": {
      "application/vnd.jupyter.widget-state+json": {
        "050cb4a99b5649e3939def5cf923054e": {
          "model_module": "@jupyter-widgets/controls",
          "model_name": "HBoxModel",
          "model_module_version": "1.5.0",
          "state": {
            "_view_name": "HBoxView",
            "_dom_classes": [],
            "_model_name": "HBoxModel",
            "_view_module": "@jupyter-widgets/controls",
            "_model_module_version": "1.5.0",
            "_view_count": null,
            "_view_module_version": "1.5.0",
            "box_style": "",
            "layout": "IPY_MODEL_ee87f93d7d514c29acc9641f0cf41985",
            "_model_module": "@jupyter-widgets/controls",
            "children": [
              "IPY_MODEL_3b4b3d6b5d7c4de798e42801fba3d6c5",
              "IPY_MODEL_1f6260534ee54317ac28083abe58df97",
              "IPY_MODEL_9a1c93caf68147809a77e50362c94a37"
            ]
          }
        },
        "ee87f93d7d514c29acc9641f0cf41985": {
          "model_module": "@jupyter-widgets/base",
          "model_name": "LayoutModel",
          "model_module_version": "1.2.0",
          "state": {
            "_view_name": "LayoutView",
            "grid_template_rows": null,
            "right": null,
            "justify_content": null,
            "_view_module": "@jupyter-widgets/base",
            "overflow": null,
            "_model_module_version": "1.2.0",
            "_view_count": null,
            "flex_flow": null,
            "width": null,
            "min_width": null,
            "border": null,
            "align_items": null,
            "bottom": null,
            "_model_module": "@jupyter-widgets/base",
            "top": null,
            "grid_column": null,
            "overflow_y": null,
            "overflow_x": null,
            "grid_auto_flow": null,
            "grid_area": null,
            "grid_template_columns": null,
            "flex": null,
            "_model_name": "LayoutModel",
            "justify_items": null,
            "grid_row": null,
            "max_height": null,
            "align_content": null,
            "visibility": null,
            "align_self": null,
            "height": null,
            "min_height": null,
            "padding": null,
            "grid_auto_rows": null,
            "grid_gap": null,
            "max_width": null,
            "order": null,
            "_view_module_version": "1.2.0",
            "grid_template_areas": null,
            "object_position": null,
            "object_fit": null,
            "grid_auto_columns": null,
            "margin": null,
            "display": null,
            "left": null
          }
        },
        "3b4b3d6b5d7c4de798e42801fba3d6c5": {
          "model_module": "@jupyter-widgets/controls",
          "model_name": "HTMLModel",
          "model_module_version": "1.5.0",
          "state": {
            "_view_name": "HTMLView",
            "style": "IPY_MODEL_6587d214138048c3bfb8dc161d417be6",
            "_dom_classes": [],
            "description": "",
            "_model_name": "HTMLModel",
            "placeholder": "​",
            "_view_module": "@jupyter-widgets/controls",
            "_model_module_version": "1.5.0",
            "value": "",
            "_view_count": null,
            "_view_module_version": "1.5.0",
            "description_tooltip": null,
            "_model_module": "@jupyter-widgets/controls",
            "layout": "IPY_MODEL_b289b4d2cc644373a6864a481855e746"
          }
        },
        "1f6260534ee54317ac28083abe58df97": {
          "model_module": "@jupyter-widgets/controls",
          "model_name": "FloatProgressModel",
          "model_module_version": "1.5.0",
          "state": {
            "_view_name": "ProgressView",
            "style": "IPY_MODEL_12c67b7fde304f77a2c10be3cb29aad9",
            "_dom_classes": [],
            "description": "",
            "_model_name": "FloatProgressModel",
            "bar_style": "success",
            "max": 1,
            "_view_module": "@jupyter-widgets/controls",
            "_model_module_version": "1.5.0",
            "value": 1,
            "_view_count": null,
            "_view_module_version": "1.5.0",
            "orientation": "horizontal",
            "min": 0,
            "description_tooltip": null,
            "_model_module": "@jupyter-widgets/controls",
            "layout": "IPY_MODEL_a2715e52e557428492d84e05f99e57bb"
          }
        },
        "9a1c93caf68147809a77e50362c94a37": {
          "model_module": "@jupyter-widgets/controls",
          "model_name": "HTMLModel",
          "model_module_version": "1.5.0",
          "state": {
            "_view_name": "HTMLView",
            "style": "IPY_MODEL_df38454e76bf44608aba24ea310c2ba5",
            "_dom_classes": [],
            "description": "",
            "_model_name": "HTMLModel",
            "placeholder": "​",
            "_view_module": "@jupyter-widgets/controls",
            "_model_module_version": "1.5.0",
            "value": " 5287/? [01:18&lt;00:00, 24.00it/s]",
            "_view_count": null,
            "_view_module_version": "1.5.0",
            "description_tooltip": null,
            "_model_module": "@jupyter-widgets/controls",
            "layout": "IPY_MODEL_3ba70a1095cd419da0b5d699b9b9702c"
          }
        },
        "6587d214138048c3bfb8dc161d417be6": {
          "model_module": "@jupyter-widgets/controls",
          "model_name": "DescriptionStyleModel",
          "model_module_version": "1.5.0",
          "state": {
            "_view_name": "StyleView",
            "_model_name": "DescriptionStyleModel",
            "description_width": "",
            "_view_module": "@jupyter-widgets/base",
            "_model_module_version": "1.5.0",
            "_view_count": null,
            "_view_module_version": "1.2.0",
            "_model_module": "@jupyter-widgets/controls"
          }
        },
        "b289b4d2cc644373a6864a481855e746": {
          "model_module": "@jupyter-widgets/base",
          "model_name": "LayoutModel",
          "model_module_version": "1.2.0",
          "state": {
            "_view_name": "LayoutView",
            "grid_template_rows": null,
            "right": null,
            "justify_content": null,
            "_view_module": "@jupyter-widgets/base",
            "overflow": null,
            "_model_module_version": "1.2.0",
            "_view_count": null,
            "flex_flow": null,
            "width": null,
            "min_width": null,
            "border": null,
            "align_items": null,
            "bottom": null,
            "_model_module": "@jupyter-widgets/base",
            "top": null,
            "grid_column": null,
            "overflow_y": null,
            "overflow_x": null,
            "grid_auto_flow": null,
            "grid_area": null,
            "grid_template_columns": null,
            "flex": null,
            "_model_name": "LayoutModel",
            "justify_items": null,
            "grid_row": null,
            "max_height": null,
            "align_content": null,
            "visibility": null,
            "align_self": null,
            "height": null,
            "min_height": null,
            "padding": null,
            "grid_auto_rows": null,
            "grid_gap": null,
            "max_width": null,
            "order": null,
            "_view_module_version": "1.2.0",
            "grid_template_areas": null,
            "object_position": null,
            "object_fit": null,
            "grid_auto_columns": null,
            "margin": null,
            "display": null,
            "left": null
          }
        },
        "12c67b7fde304f77a2c10be3cb29aad9": {
          "model_module": "@jupyter-widgets/controls",
          "model_name": "ProgressStyleModel",
          "model_module_version": "1.5.0",
          "state": {
            "_view_name": "StyleView",
            "_model_name": "ProgressStyleModel",
            "description_width": "",
            "_view_module": "@jupyter-widgets/base",
            "_model_module_version": "1.5.0",
            "_view_count": null,
            "_view_module_version": "1.2.0",
            "bar_color": null,
            "_model_module": "@jupyter-widgets/controls"
          }
        },
        "a2715e52e557428492d84e05f99e57bb": {
          "model_module": "@jupyter-widgets/base",
          "model_name": "LayoutModel",
          "model_module_version": "1.2.0",
          "state": {
            "_view_name": "LayoutView",
            "grid_template_rows": null,
            "right": null,
            "justify_content": null,
            "_view_module": "@jupyter-widgets/base",
            "overflow": null,
            "_model_module_version": "1.2.0",
            "_view_count": null,
            "flex_flow": null,
            "width": "20px",
            "min_width": null,
            "border": null,
            "align_items": null,
            "bottom": null,
            "_model_module": "@jupyter-widgets/base",
            "top": null,
            "grid_column": null,
            "overflow_y": null,
            "overflow_x": null,
            "grid_auto_flow": null,
            "grid_area": null,
            "grid_template_columns": null,
            "flex": null,
            "_model_name": "LayoutModel",
            "justify_items": null,
            "grid_row": null,
            "max_height": null,
            "align_content": null,
            "visibility": null,
            "align_self": null,
            "height": null,
            "min_height": null,
            "padding": null,
            "grid_auto_rows": null,
            "grid_gap": null,
            "max_width": null,
            "order": null,
            "_view_module_version": "1.2.0",
            "grid_template_areas": null,
            "object_position": null,
            "object_fit": null,
            "grid_auto_columns": null,
            "margin": null,
            "display": null,
            "left": null
          }
        },
        "df38454e76bf44608aba24ea310c2ba5": {
          "model_module": "@jupyter-widgets/controls",
          "model_name": "DescriptionStyleModel",
          "model_module_version": "1.5.0",
          "state": {
            "_view_name": "StyleView",
            "_model_name": "DescriptionStyleModel",
            "description_width": "",
            "_view_module": "@jupyter-widgets/base",
            "_model_module_version": "1.5.0",
            "_view_count": null,
            "_view_module_version": "1.2.0",
            "_model_module": "@jupyter-widgets/controls"
          }
        },
        "3ba70a1095cd419da0b5d699b9b9702c": {
          "model_module": "@jupyter-widgets/base",
          "model_name": "LayoutModel",
          "model_module_version": "1.2.0",
          "state": {
            "_view_name": "LayoutView",
            "grid_template_rows": null,
            "right": null,
            "justify_content": null,
            "_view_module": "@jupyter-widgets/base",
            "overflow": null,
            "_model_module_version": "1.2.0",
            "_view_count": null,
            "flex_flow": null,
            "width": null,
            "min_width": null,
            "border": null,
            "align_items": null,
            "bottom": null,
            "_model_module": "@jupyter-widgets/base",
            "top": null,
            "grid_column": null,
            "overflow_y": null,
            "overflow_x": null,
            "grid_auto_flow": null,
            "grid_area": null,
            "grid_template_columns": null,
            "flex": null,
            "_model_name": "LayoutModel",
            "justify_items": null,
            "grid_row": null,
            "max_height": null,
            "align_content": null,
            "visibility": null,
            "align_self": null,
            "height": null,
            "min_height": null,
            "padding": null,
            "grid_auto_rows": null,
            "grid_gap": null,
            "max_width": null,
            "order": null,
            "_view_module_version": "1.2.0",
            "grid_template_areas": null,
            "object_position": null,
            "object_fit": null,
            "grid_auto_columns": null,
            "margin": null,
            "display": null,
            "left": null
          }
        }
      }
    },
    "accelerator": "GPU"
  },
  "cells": [
    {
      "cell_type": "markdown",
      "metadata": {
        "id": "izGSCs4LnGI6"
      },
      "source": [
        "# Load Data\n",
        "\n",
        "www.kaggle.com/moltean/fruits?select=fruits-360_dataset"
      ]
    },
    {
      "cell_type": "code",
      "metadata": {
        "id": "Av_ZFezLn0QC"
      },
      "source": [
        "import pandas as pd\n",
        "import numpy as np\n",
        "import os, zipfile, cv2, shutil, math\n",
        "import matplotlib.pyplot as plt\n",
        "import matplotlib.image as mpimg\n",
        "import tensorflow as tf\n",
        "from PIL import Image\n",
        "%matplotlib inline\n",
        "from sklearn.preprocessing import LabelEncoder\n",
        "from sklearn.model_selection import train_test_split\n",
        "from sklearn.metrics import classification_report\n",
        "from tqdm.notebook import tqdm as tq\n",
        "from tensorflow.keras.optimizers import Adam\n",
        "from keras import optimizers\n",
        "from keras.preprocessing import image\n",
        "from tensorflow.keras.models import Sequential\n",
        "from tensorflow.keras.layers import InputLayer, Dense, Conv2D, MaxPool2D, Flatten, GlobalMaxPooling2D, GlobalAveragePooling2D, AveragePooling2D\n",
        "from google.colab import drive"
      ],
      "execution_count": 1,
      "outputs": []
    },
    {
      "cell_type": "code",
      "metadata": {
        "colab": {
          "base_uri": "https://localhost:8080/"
        },
        "id": "yPDM78XuoTAJ",
        "outputId": "2b4d52c5-e890-4604-9894-2fc72f4937e8"
      },
      "source": [
        "from google.colab import drive\n",
        "drive.mount('/content/drive')\n",
        "%cd /content/drive/MyDrive/Kaggle/"
      ],
      "execution_count": 2,
      "outputs": [
        {
          "output_type": "stream",
          "name": "stdout",
          "text": [
            "Mounted at /content/drive\n",
            "/content/drive/MyDrive/Kaggle\n"
          ]
        }
      ]
    },
    {
      "cell_type": "code",
      "metadata": {
        "colab": {
          "base_uri": "https://localhost:8080/"
        },
        "id": "iHmvIitSG0h8",
        "outputId": "69630eab-50a2-4bc0-8f88-44fe410090fe"
      },
      "source": [
        "ls"
      ],
      "execution_count": 3,
      "outputs": [
        {
          "output_type": "stream",
          "name": "stdout",
          "text": [
            "fruits.zip\n"
          ]
        }
      ]
    },
    {
      "cell_type": "code",
      "metadata": {
        "id": "cbSuGCCiHJGR"
      },
      "source": [
        "local_zip = '/content/drive/MyDrive/Kaggle/fruits.zip'\n",
        "zip_ref = zipfile.ZipFile(local_zip, 'r')\n",
        "zip_ref.extractall('/content/drive/MyDrive/Kaggle')\n",
        "zip_ref.close()"
      ],
      "execution_count": 4,
      "outputs": []
    },
    {
      "cell_type": "code",
      "metadata": {
        "colab": {
          "base_uri": "https://localhost:8080/"
        },
        "id": "wnBhuXJpIr29",
        "outputId": "f101f74c-0ecf-4681-cef5-8c13d1b6ca64"
      },
      "source": [
        "os.listdir('/content/drive/MyDrive/Kaggle/fruits-360-original-size/fruits-360-original-size/Test')"
      ],
      "execution_count": 5,
      "outputs": [
        {
          "output_type": "execute_result",
          "data": {
            "text/plain": [
              "['apple_6',\n",
              " 'apple_braeburn_1',\n",
              " 'apple_crimson_snow_1',\n",
              " 'apple_golden_1',\n",
              " 'apple_golden_2',\n",
              " 'apple_golden_3',\n",
              " 'apple_granny_smith_1',\n",
              " 'apple_hit_1',\n",
              " 'apple_pink_lady_1',\n",
              " 'apple_red_1',\n",
              " 'apple_red_2',\n",
              " 'apple_red_3',\n",
              " 'apple_red_delicios_1',\n",
              " 'apple_red_yellow_1',\n",
              " 'apple_rotten_1',\n",
              " 'cabbage_white_1',\n",
              " 'carrot_1',\n",
              " 'cucumber_1',\n",
              " 'cucumber_3',\n",
              " 'eggplant_violet_1',\n",
              " 'pear_1',\n",
              " 'pear_3',\n",
              " 'zucchini_1',\n",
              " 'zucchini_dark_1']"
            ]
          },
          "metadata": {},
          "execution_count": 5
        }
      ]
    },
    {
      "cell_type": "code",
      "metadata": {
        "id": "BsR0pQhQxM_R"
      },
      "source": [
        "base_dataset = '/content/drive/MyDrive/Kaggle/fruits-360-original-size/fruits-360-original-size/Test'\n",
        "class_dir = ['apple_6',\n",
        " 'apple_braeburn_1',\n",
        " 'apple_crimson_snow_1',\n",
        " 'apple_golden_1',\n",
        " 'apple_golden_2',\n",
        " 'apple_golden_3',\n",
        " 'apple_granny_smith_1',\n",
        " 'apple_hit_1',\n",
        " 'apple_pink_lady_1',\n",
        " 'apple_red_1',\n",
        " 'apple_red_2',\n",
        " 'apple_red_3',\n",
        " 'apple_red_delicios_1',\n",
        " 'apple_red_yellow_1',\n",
        " 'apple_rotten_1',\n",
        " 'cabbage_white_1',\n",
        " 'carrot_1',\n",
        " 'cucumber_1',\n",
        " 'cucumber_3',\n",
        " 'eggplant_violet_1',\n",
        " 'pear_1',\n",
        " 'pear_3',\n",
        " 'zucchini_1',\n",
        " 'zucchini_dark_1']\n",
        "for class_item in class_dir:\n",
        "  cur_dir = base_dataset + '/' + class_item + '/'\n",
        "  dataset = os.listdir(cur_dir)\n",
        "  for item in dataset :\n",
        "    im = Image.open(f\"{cur_dir}{item}\")\n",
        "    if item.endswith('.jpg'):\n",
        "      im.save(f\"{cur_dir}{item.split('.')[0]}.png\", \"png\")\n",
        "    else :\n",
        "      im.save(f\"{cur_dir}{item.split('.')[0]}.png\", \"png\")\n",
        "  for item in dataset :\n",
        "    if not item.endswith('.png'):\n",
        "      os.remove(os.path.join(cur_dir, item))"
      ],
      "execution_count": 7,
      "outputs": []
    },
    {
      "cell_type": "code",
      "metadata": {
        "id": "18g3qkkCH8H5"
      },
      "source": [
        "file_name = []\n",
        "tag = []\n",
        "full_path = []\n",
        "for path, subdirs, files in os.walk(base_dataset):\n",
        "    for name in files:\n",
        "        full_path.append(os.path.join(path, name)) \n",
        "        tag.append(path.split('/')[-1])        \n",
        "        file_name.append(name)"
      ],
      "execution_count": 8,
      "outputs": []
    },
    {
      "cell_type": "code",
      "metadata": {
        "colab": {
          "base_uri": "https://localhost:8080/"
        },
        "id": "P8RteS8lI7Xs",
        "outputId": "4a6267de-4a1b-4327-9ef1-aed2d650f128"
      },
      "source": [
        "# membuat dataframe dari variabel baru\n",
        "data = pd.DataFrame({'path':full_path,'file_name':file_name,'tag':tag})\n",
        "print(data.groupby(['tag']).size())"
      ],
      "execution_count": 9,
      "outputs": [
        {
          "output_type": "stream",
          "name": "stdout",
          "text": [
            "tag\n",
            "apple_6                 157\n",
            "apple_braeburn_1        160\n",
            "apple_crimson_snow_1    159\n",
            "apple_golden_1          154\n",
            "apple_golden_2          154\n",
            "apple_golden_3          158\n",
            "apple_granny_smith_1    160\n",
            "apple_hit_1             234\n",
            "apple_pink_lady_1       156\n",
            "apple_red_1             154\n",
            "apple_red_2             159\n",
            "apple_red_3             140\n",
            "apple_red_delicios_1    150\n",
            "apple_red_yellow_1      154\n",
            "apple_rotten_1          159\n",
            "cabbage_white_1          47\n",
            "carrot_1                 50\n",
            "cucumber_1               50\n",
            "cucumber_3               81\n",
            "eggplant_violet_1        80\n",
            "pear_1                  162\n",
            "pear_3                   72\n",
            "zucchini_1               80\n",
            "zucchini_dark_1          80\n",
            "dtype: int64\n"
          ]
        }
      ]
    },
    {
      "cell_type": "code",
      "metadata": {
        "id": "rLQ6JvqKI9z5"
      },
      "source": [
        "x = data['path']\n",
        "y = data['tag']"
      ],
      "execution_count": 10,
      "outputs": []
    },
    {
      "cell_type": "code",
      "metadata": {
        "id": "_b7tZVUJJSfE"
      },
      "source": [
        "X_train, x_val, y_train, y_val = train_test_split(x, y, test_size=0.30)"
      ],
      "execution_count": 11,
      "outputs": []
    },
    {
      "cell_type": "code",
      "metadata": {
        "id": "38X9CVDeJTx3"
      },
      "source": [
        "# menyatukan ke dalam masing-masing dataframe\n",
        "data_tr = pd.DataFrame({'path':X_train, 'tag':y_train, 'set':'training'})\n",
        "\n",
        "data_val = pd.DataFrame({'path':x_val, 'tag':y_val, 'set':'validation'})"
      ],
      "execution_count": 13,
      "outputs": []
    },
    {
      "cell_type": "code",
      "metadata": {
        "colab": {
          "base_uri": "https://localhost:8080/"
        },
        "id": "NlDK-mN7Kok3",
        "outputId": "b2d3794f-172e-49a6-e4a0-9207df9a6eb7"
      },
      "source": [
        "print('train size', len(data_tr))\n",
        "print('val size', len(data_val))"
      ],
      "execution_count": 14,
      "outputs": [
        {
          "output_type": "stream",
          "name": "stdout",
          "text": [
            "train size 2177\n",
            "val size 933\n"
          ]
        }
      ]
    },
    {
      "cell_type": "code",
      "metadata": {
        "colab": {
          "base_uri": "https://localhost:8080/",
          "height": 49,
          "referenced_widgets": [
            "050cb4a99b5649e3939def5cf923054e",
            "ee87f93d7d514c29acc9641f0cf41985",
            "3b4b3d6b5d7c4de798e42801fba3d6c5",
            "1f6260534ee54317ac28083abe58df97",
            "9a1c93caf68147809a77e50362c94a37",
            "6587d214138048c3bfb8dc161d417be6",
            "b289b4d2cc644373a6864a481855e746",
            "12c67b7fde304f77a2c10be3cb29aad9",
            "a2715e52e557428492d84e05f99e57bb",
            "df38454e76bf44608aba24ea310c2ba5",
            "3ba70a1095cd419da0b5d699b9b9702c"
          ]
        },
        "id": "oBCKcXsZJU_S",
        "outputId": "ebdbab61-0134-4d1f-8685-89568129cb0e"
      },
      "source": [
        "dataset_path = '/content/drive/MyDrive/Kaggle/model_fruits'\n",
        "\n",
        "data_all = data_tr.append([data_tr, data_val]).reset_index(drop=1)\n",
        "\n",
        "for index, row in tq(data_all.iterrows()):\n",
        "    \n",
        "    #detect filepath\n",
        "    file_path = row['path']\n",
        "    if os.path.exists(file_path) == False:\n",
        "            file_path = os.path.join(datasource_path,row['tag'],row['image'].split('.')[0])            \n",
        "    \n",
        "    #make folder destination dirs\n",
        "    if os.path.exists(os.path.join(dataset_path,row['set'],row['tag'])) == False:\n",
        "        os.makedirs(os.path.join(dataset_path,row['set'],row['tag']))\n",
        "    \n",
        "    #define file dest\n",
        "    destination_file_name = file_path.split('/')[-1]\n",
        "    file_dest = os.path.join(dataset_path,row['set'],row['tag'],destination_file_name)\n",
        "    \n",
        "    #copy file from source to dest\n",
        "    if os.path.exists(file_dest) == False:\n",
        "        shutil.copy2(file_path,file_dest)"
      ],
      "execution_count": 15,
      "outputs": [
        {
          "output_type": "display_data",
          "data": {
            "application/vnd.jupyter.widget-view+json": {
              "model_id": "050cb4a99b5649e3939def5cf923054e",
              "version_minor": 0,
              "version_major": 2
            },
            "text/plain": [
              "0it [00:00, ?it/s]"
            ]
          },
          "metadata": {}
        }
      ]
    },
    {
      "cell_type": "code",
      "metadata": {
        "colab": {
          "base_uri": "https://localhost:8080/"
        },
        "id": "vynaK4hEJw2h",
        "outputId": "4e92b217-f670-4cb9-baf4-35910df55fc8"
      },
      "source": [
        "os.listdir('/content/drive/MyDrive/Kaggle/model_fruits/training')"
      ],
      "execution_count": 16,
      "outputs": [
        {
          "output_type": "execute_result",
          "data": {
            "text/plain": [
              "['apple_golden_3',\n",
              " 'apple_crimson_snow_1',\n",
              " 'apple_red_delicios_1',\n",
              " 'apple_red_1',\n",
              " 'pear_1',\n",
              " 'apple_red_3',\n",
              " 'apple_granny_smith_1',\n",
              " 'apple_red_2',\n",
              " 'apple_red_yellow_1',\n",
              " 'apple_rotten_1',\n",
              " 'apple_golden_1',\n",
              " 'cabbage_white_1',\n",
              " 'zucchini_dark_1',\n",
              " 'apple_pink_lady_1',\n",
              " 'apple_golden_2',\n",
              " 'zucchini_1',\n",
              " 'apple_6',\n",
              " 'apple_hit_1',\n",
              " 'cucumber_1',\n",
              " 'pear_3',\n",
              " 'eggplant_violet_1',\n",
              " 'carrot_1',\n",
              " 'cucumber_3',\n",
              " 'apple_braeburn_1']"
            ]
          },
          "metadata": {},
          "execution_count": 16
        }
      ]
    },
    {
      "cell_type": "markdown",
      "metadata": {
        "id": "6mYhJO1-HB_u"
      },
      "source": [
        "# Preprocessing"
      ]
    },
    {
      "cell_type": "code",
      "metadata": {
        "id": "hLZNVuUyKhNc"
      },
      "source": [
        "# Gather data train\n",
        "train_data = []\n",
        "train_label = []\n",
        "\n",
        "train_dir='/content/drive/MyDrive/Kaggle/model_fruits/training'\n",
        "for r, d, f in os.walk(train_dir):\n",
        "    for file in f:\n",
        "        if \".png\" in file:\n",
        "            imagePath = os.path.join(r, file)\n",
        "            image = cv2.imread(imagePath)\n",
        "            image = cv2.resize(image, (250,250))\n",
        "            train_data.append(image)\n",
        "            label = imagePath.split(os.path.sep)[-2]\n",
        "            train_label.append(label)\n",
        "\n",
        "train_data = np.array(train_data)\n",
        "train_label = np.array(train_label)"
      ],
      "execution_count": 17,
      "outputs": []
    },
    {
      "cell_type": "code",
      "metadata": {
        "id": "ceJoCtYOK5pl"
      },
      "source": [
        "# Gather data validation\n",
        "val_data = []\n",
        "val_label = []\n",
        "\n",
        "vali_dir='/content/drive/MyDrive/Kaggle/model_fruits/validation'\n",
        "for r, d, f in os.walk(vali_dir):\n",
        "    for file in f:\n",
        "        if \".png\" in file:\n",
        "            imagePath = os.path.join(r, file)\n",
        "            image = cv2.imread(imagePath)\n",
        "            image = cv2.resize(image, (250,250))\n",
        "            val_data.append(image)\n",
        "            label = imagePath.split(os.path.sep)[-2]\n",
        "            val_label.append(label)\n",
        "\n",
        "val_data = np.array(val_data)\n",
        "val_label = np.array(val_label)"
      ],
      "execution_count": 18,
      "outputs": []
    },
    {
      "cell_type": "code",
      "metadata": {
        "colab": {
          "base_uri": "https://localhost:8080/"
        },
        "id": "IrG-auhHLKWT",
        "outputId": "e44a6cc6-f548-4fe9-e294-350f4e6ce502"
      },
      "source": [
        "print('Data Training Shape : ', train_data.shape)\n",
        "print('Data Validation Shape : ', val_data.shape)"
      ],
      "execution_count": 19,
      "outputs": [
        {
          "output_type": "stream",
          "name": "stdout",
          "text": [
            "Data Training Shape :  (2177, 250, 250, 3)\n",
            "Data Validation Shape :  (933, 250, 250, 3)\n"
          ]
        }
      ]
    },
    {
      "cell_type": "code",
      "metadata": {
        "colab": {
          "base_uri": "https://localhost:8080/"
        },
        "id": "QlmjxTkTLLzx",
        "outputId": "f3a82aef-c4b0-44b0-eeff-4cbf2a4d9019"
      },
      "source": [
        "# Normalisasi dataset\n",
        "print(\"Data sebelum di-normalisasi \", train_data[0][0][0])\n",
        "\n",
        "X_train = train_data.astype('float32') / 255.0\n",
        "x_val = val_data.astype('float32') / 255.0\n",
        "print(\"Data setelah di-normalisasi \", X_train[0][0][0])"
      ],
      "execution_count": 20,
      "outputs": [
        {
          "output_type": "stream",
          "name": "stdout",
          "text": [
            "Data sebelum di-normalisasi  [255 255 255]\n",
            "Data setelah di-normalisasi  [1. 1. 1.]\n"
          ]
        }
      ]
    },
    {
      "cell_type": "code",
      "metadata": {
        "colab": {
          "base_uri": "https://localhost:8080/"
        },
        "id": "LxdFTn8qLZoT",
        "outputId": "6a551b22-4c01-4ab3-aa2f-3f4e35939541"
      },
      "source": [
        "# Transformasi label encoder\n",
        "print('Label sebelum di-encoder ', train_label[2166:2176])\n",
        "\n",
        "lb = LabelEncoder()\n",
        "y_train = lb.fit_transform(train_label)\n",
        "y_val = lb.fit_transform(val_label)\n",
        "\n",
        "print('Label setelah di-encoder ', y_train[2166:2176])"
      ],
      "execution_count": 21,
      "outputs": [
        {
          "output_type": "stream",
          "name": "stdout",
          "text": [
            "Label sebelum di-encoder  ['apple_braeburn_1' 'apple_braeburn_1' 'apple_braeburn_1'\n",
            " 'apple_braeburn_1' 'apple_braeburn_1' 'apple_braeburn_1'\n",
            " 'apple_braeburn_1' 'apple_braeburn_1' 'apple_braeburn_1'\n",
            " 'apple_braeburn_1']\n",
            "Label setelah di-encoder  [1 1 1 1 1 1 1 1 1 1]\n"
          ]
        }
      ]
    },
    {
      "cell_type": "markdown",
      "metadata": {
        "id": "sJRp7MvMLX5e"
      },
      "source": [
        "# Modelling"
      ]
    },
    {
      "cell_type": "code",
      "metadata": {
        "id": "NPbj8zzUOuBo",
        "colab": {
          "base_uri": "https://localhost:8080/"
        },
        "outputId": "335abf98-89f6-43ac-8fa6-60ae5cc21897"
      },
      "source": [
        "model = Sequential()\n",
        "\n",
        "model.add(InputLayer(input_shape=[250,250,3]))\n",
        "model.add(Conv2D(filters=16, kernel_size=3, strides=1, padding='same', activation='relu'))\n",
        "model.add(MaxPool2D(pool_size=2, padding='same'))\n",
        "model.add(Conv2D(filters=32, kernel_size=3, strides=1, padding='same', activation='relu'))\n",
        "model.add(MaxPool2D(pool_size=2, padding='same'))\n",
        "model.add(Conv2D(filters=64, kernel_size=3, strides=1, padding='same', activation='relu'))\n",
        "model.add(GlobalMaxPooling2D())\n",
        "model.add(Flatten())\n",
        "\n",
        "# Fully Connected Layer\n",
        "model.add(Dense(512, activation='relu'))\n",
        "model.add(Dense(256, activation='relu'))\n",
        "model.add(Dense(128, activation='relu'))\n",
        "model.add(Dense(1, activation='sigmoid'))\n",
        "\n",
        "# Print model summary\n",
        "print(model.summary())"
      ],
      "execution_count": 22,
      "outputs": [
        {
          "output_type": "stream",
          "name": "stdout",
          "text": [
            "Model: \"sequential\"\n",
            "_________________________________________________________________\n",
            "Layer (type)                 Output Shape              Param #   \n",
            "=================================================================\n",
            "conv2d (Conv2D)              (None, 250, 250, 16)      448       \n",
            "_________________________________________________________________\n",
            "max_pooling2d (MaxPooling2D) (None, 125, 125, 16)      0         \n",
            "_________________________________________________________________\n",
            "conv2d_1 (Conv2D)            (None, 125, 125, 32)      4640      \n",
            "_________________________________________________________________\n",
            "max_pooling2d_1 (MaxPooling2 (None, 63, 63, 32)        0         \n",
            "_________________________________________________________________\n",
            "conv2d_2 (Conv2D)            (None, 63, 63, 64)        18496     \n",
            "_________________________________________________________________\n",
            "global_max_pooling2d (Global (None, 64)                0         \n",
            "_________________________________________________________________\n",
            "flatten (Flatten)            (None, 64)                0         \n",
            "_________________________________________________________________\n",
            "dense (Dense)                (None, 512)               33280     \n",
            "_________________________________________________________________\n",
            "dense_1 (Dense)              (None, 256)               131328    \n",
            "_________________________________________________________________\n",
            "dense_2 (Dense)              (None, 128)               32896     \n",
            "_________________________________________________________________\n",
            "dense_3 (Dense)              (None, 1)                 129       \n",
            "=================================================================\n",
            "Total params: 221,217\n",
            "Trainable params: 221,217\n",
            "Non-trainable params: 0\n",
            "_________________________________________________________________\n",
            "None\n"
          ]
        }
      ]
    },
    {
      "cell_type": "code",
      "metadata": {
        "id": "FAv1ZxVFOxTl",
        "colab": {
          "base_uri": "https://localhost:8080/"
        },
        "outputId": "8355c7ba-1145-4971-95ab-2fc041941e16"
      },
      "source": [
        "model2 = Sequential()\n",
        "\n",
        "model2.add(InputLayer(input_shape=[250,250,3]))\n",
        "model2.add(Conv2D(filters=64, kernel_size=3, strides=1, padding='same', activation='relu'))\n",
        "model2.add(AveragePooling2D(pool_size=2, padding='same'))\n",
        "model2.add(Conv2D(filters=128, kernel_size=3, strides=1, padding='same', activation='relu'))\n",
        "model2.add(AveragePooling2D(pool_size=2, padding='same'))\n",
        "model2.add(Conv2D(filters=512, kernel_size=3, strides=1, padding='same', activation='relu'))\n",
        "model2.add(GlobalAveragePooling2D())\n",
        "model2.add(Flatten())\n",
        "\n",
        "# Fully Connected Layer\n",
        "model2.add(Dense(512, activation='relu'))\n",
        "model2.add(Dense(256, activation='relu'))\n",
        "model2.add(Dense(128, activation='relu'))\n",
        "model2.add(Dense(1, activation='sigmoid'))\n",
        "\n",
        "# Print model summary\n",
        "print(model.summary())"
      ],
      "execution_count": 24,
      "outputs": [
        {
          "output_type": "stream",
          "name": "stdout",
          "text": [
            "Model: \"sequential\"\n",
            "_________________________________________________________________\n",
            "Layer (type)                 Output Shape              Param #   \n",
            "=================================================================\n",
            "conv2d (Conv2D)              (None, 250, 250, 16)      448       \n",
            "_________________________________________________________________\n",
            "max_pooling2d (MaxPooling2D) (None, 125, 125, 16)      0         \n",
            "_________________________________________________________________\n",
            "conv2d_1 (Conv2D)            (None, 125, 125, 32)      4640      \n",
            "_________________________________________________________________\n",
            "max_pooling2d_1 (MaxPooling2 (None, 63, 63, 32)        0         \n",
            "_________________________________________________________________\n",
            "conv2d_2 (Conv2D)            (None, 63, 63, 64)        18496     \n",
            "_________________________________________________________________\n",
            "global_max_pooling2d (Global (None, 64)                0         \n",
            "_________________________________________________________________\n",
            "flatten (Flatten)            (None, 64)                0         \n",
            "_________________________________________________________________\n",
            "dense (Dense)                (None, 512)               33280     \n",
            "_________________________________________________________________\n",
            "dense_1 (Dense)              (None, 256)               131328    \n",
            "_________________________________________________________________\n",
            "dense_2 (Dense)              (None, 128)               32896     \n",
            "_________________________________________________________________\n",
            "dense_3 (Dense)              (None, 1)                 129       \n",
            "=================================================================\n",
            "Total params: 221,217\n",
            "Trainable params: 221,217\n",
            "Non-trainable params: 0\n",
            "_________________________________________________________________\n",
            "None\n"
          ]
        }
      ]
    },
    {
      "cell_type": "code",
      "metadata": {
        "id": "uJLIwVC6NG_Z"
      },
      "source": [
        "from tensorflow.keras.optimizers import SGD\n",
        "model.compile(optimizer=Adam(learning_rate=0.001),\n",
        "              loss='sparse_categorical_crossentropy', \n",
        "              metrics=['acc'])"
      ],
      "execution_count": 25,
      "outputs": []
    },
    {
      "cell_type": "code",
      "metadata": {
        "colab": {
          "base_uri": "https://localhost:8080/"
        },
        "id": "z9_DGbQuNNjZ",
        "outputId": "45b33ee3-02a7-4782-f5b7-88633750b969"
      },
      "source": [
        "H = model.fit(\n",
        "    X_train, \n",
        "    y_train, \n",
        "    batch_size=32, \n",
        "    epochs=100, \n",
        "    validation_data=(x_val, y_val)\n",
        "    )"
      ],
      "execution_count": 27,
      "outputs": [
        {
          "output_type": "stream",
          "name": "stdout",
          "text": [
            "Epoch 1/100\n",
            "69/69 [==============================] - 38s 97ms/step - loss: nan - acc: 0.0524 - val_loss: nan - val_acc: 0.0472\n",
            "Epoch 2/100\n",
            "69/69 [==============================] - 5s 79ms/step - loss: nan - acc: 0.0519 - val_loss: nan - val_acc: 0.0472\n",
            "Epoch 3/100\n",
            "69/69 [==============================] - 6s 80ms/step - loss: nan - acc: 0.0519 - val_loss: nan - val_acc: 0.0472\n",
            "Epoch 4/100\n",
            "69/69 [==============================] - 5s 80ms/step - loss: nan - acc: 0.0519 - val_loss: nan - val_acc: 0.0472\n",
            "Epoch 5/100\n",
            "69/69 [==============================] - 5s 79ms/step - loss: nan - acc: 0.0519 - val_loss: nan - val_acc: 0.0472\n",
            "Epoch 6/100\n",
            "69/69 [==============================] - 5s 80ms/step - loss: nan - acc: 0.0519 - val_loss: nan - val_acc: 0.0472\n",
            "Epoch 7/100\n",
            "69/69 [==============================] - 6s 81ms/step - loss: nan - acc: 0.0519 - val_loss: nan - val_acc: 0.0472\n",
            "Epoch 8/100\n",
            "69/69 [==============================] - 6s 80ms/step - loss: nan - acc: 0.0519 - val_loss: nan - val_acc: 0.0472\n",
            "Epoch 9/100\n",
            "69/69 [==============================] - 6s 80ms/step - loss: nan - acc: 0.0519 - val_loss: nan - val_acc: 0.0472\n",
            "Epoch 10/100\n",
            "69/69 [==============================] - 5s 79ms/step - loss: nan - acc: 0.0519 - val_loss: nan - val_acc: 0.0472\n",
            "Epoch 11/100\n",
            "69/69 [==============================] - 6s 81ms/step - loss: nan - acc: 0.0519 - val_loss: nan - val_acc: 0.0472\n",
            "Epoch 12/100\n",
            "69/69 [==============================] - 6s 80ms/step - loss: nan - acc: 0.0519 - val_loss: nan - val_acc: 0.0472\n",
            "Epoch 13/100\n",
            "69/69 [==============================] - 6s 80ms/step - loss: nan - acc: 0.0519 - val_loss: nan - val_acc: 0.0472\n",
            "Epoch 14/100\n",
            "69/69 [==============================] - 5s 79ms/step - loss: nan - acc: 0.0519 - val_loss: nan - val_acc: 0.0472\n",
            "Epoch 15/100\n",
            "69/69 [==============================] - 5s 80ms/step - loss: nan - acc: 0.0519 - val_loss: nan - val_acc: 0.0472\n",
            "Epoch 16/100\n",
            "69/69 [==============================] - 6s 80ms/step - loss: nan - acc: 0.0519 - val_loss: nan - val_acc: 0.0472\n",
            "Epoch 17/100\n",
            "69/69 [==============================] - 5s 79ms/step - loss: nan - acc: 0.0519 - val_loss: nan - val_acc: 0.0472\n",
            "Epoch 18/100\n",
            "69/69 [==============================] - 5s 80ms/step - loss: nan - acc: 0.0519 - val_loss: nan - val_acc: 0.0472\n",
            "Epoch 19/100\n",
            "69/69 [==============================] - 6s 81ms/step - loss: nan - acc: 0.0519 - val_loss: nan - val_acc: 0.0472\n",
            "Epoch 20/100\n",
            "69/69 [==============================] - 6s 80ms/step - loss: nan - acc: 0.0519 - val_loss: nan - val_acc: 0.0472\n",
            "Epoch 21/100\n",
            "69/69 [==============================] - 6s 80ms/step - loss: nan - acc: 0.0519 - val_loss: nan - val_acc: 0.0472\n",
            "Epoch 22/100\n",
            "69/69 [==============================] - 5s 80ms/step - loss: nan - acc: 0.0519 - val_loss: nan - val_acc: 0.0472\n",
            "Epoch 23/100\n",
            "69/69 [==============================] - 5s 80ms/step - loss: nan - acc: 0.0519 - val_loss: nan - val_acc: 0.0472\n",
            "Epoch 24/100\n",
            "69/69 [==============================] - 6s 80ms/step - loss: nan - acc: 0.0519 - val_loss: nan - val_acc: 0.0472\n",
            "Epoch 25/100\n",
            "69/69 [==============================] - 6s 80ms/step - loss: nan - acc: 0.0519 - val_loss: nan - val_acc: 0.0472\n",
            "Epoch 26/100\n",
            "69/69 [==============================] - 5s 80ms/step - loss: nan - acc: 0.0519 - val_loss: nan - val_acc: 0.0472\n",
            "Epoch 27/100\n",
            "69/69 [==============================] - 6s 90ms/step - loss: nan - acc: 0.0519 - val_loss: nan - val_acc: 0.0472\n",
            "Epoch 28/100\n",
            "69/69 [==============================] - 6s 80ms/step - loss: nan - acc: 0.0519 - val_loss: nan - val_acc: 0.0472\n",
            "Epoch 29/100\n",
            "69/69 [==============================] - 5s 80ms/step - loss: nan - acc: 0.0519 - val_loss: nan - val_acc: 0.0472\n",
            "Epoch 30/100\n",
            "69/69 [==============================] - 5s 80ms/step - loss: nan - acc: 0.0519 - val_loss: nan - val_acc: 0.0472\n",
            "Epoch 31/100\n",
            "69/69 [==============================] - 6s 81ms/step - loss: nan - acc: 0.0519 - val_loss: nan - val_acc: 0.0472\n",
            "Epoch 32/100\n",
            "69/69 [==============================] - 6s 80ms/step - loss: nan - acc: 0.0519 - val_loss: nan - val_acc: 0.0472\n",
            "Epoch 33/100\n",
            "69/69 [==============================] - 6s 80ms/step - loss: nan - acc: 0.0519 - val_loss: nan - val_acc: 0.0472\n",
            "Epoch 34/100\n",
            "69/69 [==============================] - 5s 80ms/step - loss: nan - acc: 0.0519 - val_loss: nan - val_acc: 0.0472\n",
            "Epoch 35/100\n",
            "69/69 [==============================] - 5s 79ms/step - loss: nan - acc: 0.0519 - val_loss: nan - val_acc: 0.0472\n",
            "Epoch 36/100\n",
            "69/69 [==============================] - 6s 81ms/step - loss: nan - acc: 0.0519 - val_loss: nan - val_acc: 0.0472\n",
            "Epoch 37/100\n",
            "69/69 [==============================] - 5s 80ms/step - loss: nan - acc: 0.0519 - val_loss: nan - val_acc: 0.0472\n",
            "Epoch 38/100\n",
            "69/69 [==============================] - 5s 80ms/step - loss: nan - acc: 0.0519 - val_loss: nan - val_acc: 0.0472\n",
            "Epoch 39/100\n",
            "69/69 [==============================] - 5s 80ms/step - loss: nan - acc: 0.0519 - val_loss: nan - val_acc: 0.0472\n",
            "Epoch 40/100\n",
            "69/69 [==============================] - 6s 80ms/step - loss: nan - acc: 0.0519 - val_loss: nan - val_acc: 0.0472\n",
            "Epoch 41/100\n",
            "69/69 [==============================] - 5s 80ms/step - loss: nan - acc: 0.0519 - val_loss: nan - val_acc: 0.0472\n",
            "Epoch 42/100\n",
            "69/69 [==============================] - 6s 80ms/step - loss: nan - acc: 0.0519 - val_loss: nan - val_acc: 0.0472\n",
            "Epoch 43/100\n",
            "69/69 [==============================] - 6s 80ms/step - loss: nan - acc: 0.0519 - val_loss: nan - val_acc: 0.0472\n",
            "Epoch 44/100\n",
            "69/69 [==============================] - 6s 81ms/step - loss: nan - acc: 0.0519 - val_loss: nan - val_acc: 0.0472\n",
            "Epoch 45/100\n",
            "69/69 [==============================] - 6s 80ms/step - loss: nan - acc: 0.0519 - val_loss: nan - val_acc: 0.0472\n",
            "Epoch 46/100\n",
            "69/69 [==============================] - 5s 80ms/step - loss: nan - acc: 0.0519 - val_loss: nan - val_acc: 0.0472\n",
            "Epoch 47/100\n",
            "69/69 [==============================] - 5s 80ms/step - loss: nan - acc: 0.0519 - val_loss: nan - val_acc: 0.0472\n",
            "Epoch 48/100\n",
            "69/69 [==============================] - 6s 81ms/step - loss: nan - acc: 0.0519 - val_loss: nan - val_acc: 0.0472\n",
            "Epoch 49/100\n",
            "69/69 [==============================] - 5s 79ms/step - loss: nan - acc: 0.0519 - val_loss: nan - val_acc: 0.0472\n",
            "Epoch 50/100\n",
            "69/69 [==============================] - 6s 80ms/step - loss: nan - acc: 0.0519 - val_loss: nan - val_acc: 0.0472\n",
            "Epoch 51/100\n",
            "69/69 [==============================] - 6s 80ms/step - loss: nan - acc: 0.0519 - val_loss: nan - val_acc: 0.0472\n",
            "Epoch 52/100\n",
            "69/69 [==============================] - 5s 80ms/step - loss: nan - acc: 0.0519 - val_loss: nan - val_acc: 0.0472\n",
            "Epoch 53/100\n",
            "69/69 [==============================] - 6s 80ms/step - loss: nan - acc: 0.0519 - val_loss: nan - val_acc: 0.0472\n",
            "Epoch 54/100\n",
            "69/69 [==============================] - 5s 79ms/step - loss: nan - acc: 0.0519 - val_loss: nan - val_acc: 0.0472\n",
            "Epoch 55/100\n",
            "69/69 [==============================] - 6s 80ms/step - loss: nan - acc: 0.0519 - val_loss: nan - val_acc: 0.0472\n",
            "Epoch 56/100\n",
            "69/69 [==============================] - 6s 80ms/step - loss: nan - acc: 0.0519 - val_loss: nan - val_acc: 0.0472\n",
            "Epoch 57/100\n",
            "69/69 [==============================] - 6s 81ms/step - loss: nan - acc: 0.0519 - val_loss: nan - val_acc: 0.0472\n",
            "Epoch 58/100\n",
            "69/69 [==============================] - 6s 80ms/step - loss: nan - acc: 0.0519 - val_loss: nan - val_acc: 0.0472\n",
            "Epoch 59/100\n",
            "69/69 [==============================] - 6s 81ms/step - loss: nan - acc: 0.0519 - val_loss: nan - val_acc: 0.0472\n",
            "Epoch 60/100\n",
            "69/69 [==============================] - 6s 81ms/step - loss: nan - acc: 0.0519 - val_loss: nan - val_acc: 0.0472\n",
            "Epoch 61/100\n",
            "69/69 [==============================] - 6s 81ms/step - loss: nan - acc: 0.0519 - val_loss: nan - val_acc: 0.0472\n",
            "Epoch 62/100\n",
            "69/69 [==============================] - 5s 80ms/step - loss: nan - acc: 0.0519 - val_loss: nan - val_acc: 0.0472\n",
            "Epoch 63/100\n",
            "69/69 [==============================] - 5s 80ms/step - loss: nan - acc: 0.0519 - val_loss: nan - val_acc: 0.0472\n",
            "Epoch 64/100\n",
            "69/69 [==============================] - 6s 81ms/step - loss: nan - acc: 0.0519 - val_loss: nan - val_acc: 0.0472\n",
            "Epoch 65/100\n",
            "69/69 [==============================] - 6s 80ms/step - loss: nan - acc: 0.0519 - val_loss: nan - val_acc: 0.0472\n",
            "Epoch 66/100\n",
            "69/69 [==============================] - 5s 80ms/step - loss: nan - acc: 0.0519 - val_loss: nan - val_acc: 0.0472\n",
            "Epoch 67/100\n",
            "69/69 [==============================] - 6s 80ms/step - loss: nan - acc: 0.0519 - val_loss: nan - val_acc: 0.0472\n",
            "Epoch 68/100\n",
            "69/69 [==============================] - 6s 81ms/step - loss: nan - acc: 0.0519 - val_loss: nan - val_acc: 0.0472\n",
            "Epoch 69/100\n",
            "69/69 [==============================] - 6s 88ms/step - loss: nan - acc: 0.0519 - val_loss: nan - val_acc: 0.0472\n",
            "Epoch 70/100\n",
            "69/69 [==============================] - 6s 80ms/step - loss: nan - acc: 0.0519 - val_loss: nan - val_acc: 0.0472\n",
            "Epoch 71/100\n",
            "69/69 [==============================] - 6s 80ms/step - loss: nan - acc: 0.0519 - val_loss: nan - val_acc: 0.0472\n",
            "Epoch 72/100\n",
            "69/69 [==============================] - 6s 80ms/step - loss: nan - acc: 0.0519 - val_loss: nan - val_acc: 0.0472\n",
            "Epoch 73/100\n",
            "69/69 [==============================] - 6s 81ms/step - loss: nan - acc: 0.0519 - val_loss: nan - val_acc: 0.0472\n",
            "Epoch 74/100\n",
            "69/69 [==============================] - 6s 80ms/step - loss: nan - acc: 0.0519 - val_loss: nan - val_acc: 0.0472\n",
            "Epoch 75/100\n",
            "69/69 [==============================] - 6s 80ms/step - loss: nan - acc: 0.0519 - val_loss: nan - val_acc: 0.0472\n",
            "Epoch 76/100\n",
            "69/69 [==============================] - 6s 81ms/step - loss: nan - acc: 0.0519 - val_loss: nan - val_acc: 0.0472\n",
            "Epoch 77/100\n",
            "69/69 [==============================] - 6s 81ms/step - loss: nan - acc: 0.0519 - val_loss: nan - val_acc: 0.0472\n",
            "Epoch 78/100\n",
            "69/69 [==============================] - 6s 81ms/step - loss: nan - acc: 0.0519 - val_loss: nan - val_acc: 0.0472\n",
            "Epoch 79/100\n",
            "69/69 [==============================] - 6s 81ms/step - loss: nan - acc: 0.0519 - val_loss: nan - val_acc: 0.0472\n",
            "Epoch 80/100\n",
            "69/69 [==============================] - 6s 81ms/step - loss: nan - acc: 0.0519 - val_loss: nan - val_acc: 0.0472\n",
            "Epoch 81/100\n",
            "69/69 [==============================] - 6s 81ms/step - loss: nan - acc: 0.0519 - val_loss: nan - val_acc: 0.0472\n",
            "Epoch 82/100\n",
            "69/69 [==============================] - 6s 81ms/step - loss: nan - acc: 0.0519 - val_loss: nan - val_acc: 0.0472\n",
            "Epoch 83/100\n",
            "69/69 [==============================] - 6s 81ms/step - loss: nan - acc: 0.0519 - val_loss: nan - val_acc: 0.0472\n",
            "Epoch 84/100\n",
            "69/69 [==============================] - 6s 80ms/step - loss: nan - acc: 0.0519 - val_loss: nan - val_acc: 0.0472\n",
            "Epoch 85/100\n",
            "69/69 [==============================] - 5s 80ms/step - loss: nan - acc: 0.0519 - val_loss: nan - val_acc: 0.0472\n",
            "Epoch 86/100\n",
            "69/69 [==============================] - 5s 79ms/step - loss: nan - acc: 0.0519 - val_loss: nan - val_acc: 0.0472\n",
            "Epoch 87/100\n",
            "69/69 [==============================] - 6s 88ms/step - loss: nan - acc: 0.0519 - val_loss: nan - val_acc: 0.0472\n",
            "Epoch 88/100\n",
            "69/69 [==============================] - 6s 81ms/step - loss: nan - acc: 0.0519 - val_loss: nan - val_acc: 0.0472\n",
            "Epoch 89/100\n",
            "69/69 [==============================] - 5s 80ms/step - loss: nan - acc: 0.0519 - val_loss: nan - val_acc: 0.0472\n",
            "Epoch 90/100\n",
            "69/69 [==============================] - 6s 80ms/step - loss: nan - acc: 0.0519 - val_loss: nan - val_acc: 0.0472\n",
            "Epoch 91/100\n",
            "69/69 [==============================] - 6s 81ms/step - loss: nan - acc: 0.0519 - val_loss: nan - val_acc: 0.0472\n",
            "Epoch 92/100\n",
            "69/69 [==============================] - 6s 80ms/step - loss: nan - acc: 0.0519 - val_loss: nan - val_acc: 0.0472\n",
            "Epoch 93/100\n",
            "69/69 [==============================] - 5s 80ms/step - loss: nan - acc: 0.0519 - val_loss: nan - val_acc: 0.0472\n",
            "Epoch 94/100\n",
            "69/69 [==============================] - 6s 87ms/step - loss: nan - acc: 0.0519 - val_loss: nan - val_acc: 0.0472\n",
            "Epoch 95/100\n",
            "69/69 [==============================] - 6s 80ms/step - loss: nan - acc: 0.0519 - val_loss: nan - val_acc: 0.0472\n",
            "Epoch 96/100\n",
            "69/69 [==============================] - 6s 81ms/step - loss: nan - acc: 0.0519 - val_loss: nan - val_acc: 0.0472\n",
            "Epoch 97/100\n",
            "69/69 [==============================] - 6s 81ms/step - loss: nan - acc: 0.0519 - val_loss: nan - val_acc: 0.0472\n",
            "Epoch 98/100\n",
            "69/69 [==============================] - 6s 80ms/step - loss: nan - acc: 0.0519 - val_loss: nan - val_acc: 0.0472\n",
            "Epoch 99/100\n",
            "69/69 [==============================] - 6s 81ms/step - loss: nan - acc: 0.0519 - val_loss: nan - val_acc: 0.0472\n",
            "Epoch 100/100\n",
            "69/69 [==============================] - 6s 80ms/step - loss: nan - acc: 0.0519 - val_loss: nan - val_acc: 0.0472\n"
          ]
        }
      ]
    },
    {
      "cell_type": "code",
      "metadata": {
        "colab": {
          "base_uri": "https://localhost:8080/"
        },
        "id": "87tOEovGHkUt",
        "outputId": "2904fdde-52c8-4741-e6d5-265ee4a461bf"
      },
      "source": [
        "model2.compile(optimizer=Adam(learning_rate=0.001),\n",
        "              loss='sparse_categorical_crossentropy', \n",
        "              metrics=['acc'])\n",
        "\n",
        "H2 = model.fit(\n",
        "    X_train, \n",
        "    y_train, \n",
        "    batch_size=32, \n",
        "    epochs=100, \n",
        "    validation_data=(x_val, y_val)\n",
        "    )"
      ],
      "execution_count": 28,
      "outputs": [
        {
          "output_type": "stream",
          "name": "stdout",
          "text": [
            "Epoch 1/100\n",
            "69/69 [==============================] - 6s 92ms/step - loss: nan - acc: 0.0519 - val_loss: nan - val_acc: 0.0472\n",
            "Epoch 2/100\n",
            "69/69 [==============================] - 5s 79ms/step - loss: nan - acc: 0.0519 - val_loss: nan - val_acc: 0.0472\n",
            "Epoch 3/100\n",
            "69/69 [==============================] - 5s 79ms/step - loss: nan - acc: 0.0519 - val_loss: nan - val_acc: 0.0472\n",
            "Epoch 4/100\n",
            "69/69 [==============================] - 6s 81ms/step - loss: nan - acc: 0.0519 - val_loss: nan - val_acc: 0.0472\n",
            "Epoch 5/100\n",
            "69/69 [==============================] - 5s 79ms/step - loss: nan - acc: 0.0519 - val_loss: nan - val_acc: 0.0472\n",
            "Epoch 6/100\n",
            "69/69 [==============================] - 6s 81ms/step - loss: nan - acc: 0.0519 - val_loss: nan - val_acc: 0.0472\n",
            "Epoch 7/100\n",
            "69/69 [==============================] - 5s 79ms/step - loss: nan - acc: 0.0519 - val_loss: nan - val_acc: 0.0472\n",
            "Epoch 8/100\n",
            "69/69 [==============================] - 5s 80ms/step - loss: nan - acc: 0.0519 - val_loss: nan - val_acc: 0.0472\n",
            "Epoch 9/100\n",
            "69/69 [==============================] - 6s 80ms/step - loss: nan - acc: 0.0519 - val_loss: nan - val_acc: 0.0472\n",
            "Epoch 10/100\n",
            "69/69 [==============================] - 6s 80ms/step - loss: nan - acc: 0.0519 - val_loss: nan - val_acc: 0.0472\n",
            "Epoch 11/100\n",
            "69/69 [==============================] - 5s 79ms/step - loss: nan - acc: 0.0519 - val_loss: nan - val_acc: 0.0472\n",
            "Epoch 12/100\n",
            "69/69 [==============================] - 6s 81ms/step - loss: nan - acc: 0.0519 - val_loss: nan - val_acc: 0.0472\n",
            "Epoch 13/100\n",
            "69/69 [==============================] - 6s 81ms/step - loss: nan - acc: 0.0519 - val_loss: nan - val_acc: 0.0472\n",
            "Epoch 14/100\n",
            "69/69 [==============================] - 6s 80ms/step - loss: nan - acc: 0.0519 - val_loss: nan - val_acc: 0.0472\n",
            "Epoch 15/100\n",
            "69/69 [==============================] - 5s 79ms/step - loss: nan - acc: 0.0519 - val_loss: nan - val_acc: 0.0472\n",
            "Epoch 16/100\n",
            "69/69 [==============================] - 6s 81ms/step - loss: nan - acc: 0.0519 - val_loss: nan - val_acc: 0.0472\n",
            "Epoch 17/100\n",
            "69/69 [==============================] - 5s 80ms/step - loss: nan - acc: 0.0519 - val_loss: nan - val_acc: 0.0472\n",
            "Epoch 18/100\n",
            "69/69 [==============================] - 6s 80ms/step - loss: nan - acc: 0.0519 - val_loss: nan - val_acc: 0.0472\n",
            "Epoch 19/100\n",
            "69/69 [==============================] - 5s 79ms/step - loss: nan - acc: 0.0519 - val_loss: nan - val_acc: 0.0472\n",
            "Epoch 20/100\n",
            "69/69 [==============================] - 6s 80ms/step - loss: nan - acc: 0.0519 - val_loss: nan - val_acc: 0.0472\n",
            "Epoch 21/100\n",
            "69/69 [==============================] - 6s 80ms/step - loss: nan - acc: 0.0519 - val_loss: nan - val_acc: 0.0472\n",
            "Epoch 22/100\n",
            "69/69 [==============================] - 6s 80ms/step - loss: nan - acc: 0.0519 - val_loss: nan - val_acc: 0.0472\n",
            "Epoch 23/100\n",
            "69/69 [==============================] - 6s 80ms/step - loss: nan - acc: 0.0519 - val_loss: nan - val_acc: 0.0472\n",
            "Epoch 24/100\n",
            "69/69 [==============================] - 6s 81ms/step - loss: nan - acc: 0.0519 - val_loss: nan - val_acc: 0.0472\n",
            "Epoch 25/100\n",
            "69/69 [==============================] - 6s 81ms/step - loss: nan - acc: 0.0519 - val_loss: nan - val_acc: 0.0472\n",
            "Epoch 26/100\n",
            "69/69 [==============================] - 6s 81ms/step - loss: nan - acc: 0.0519 - val_loss: nan - val_acc: 0.0472\n",
            "Epoch 27/100\n",
            "69/69 [==============================] - 6s 80ms/step - loss: nan - acc: 0.0519 - val_loss: nan - val_acc: 0.0472\n",
            "Epoch 28/100\n",
            "69/69 [==============================] - 6s 80ms/step - loss: nan - acc: 0.0519 - val_loss: nan - val_acc: 0.0472\n",
            "Epoch 29/100\n",
            "69/69 [==============================] - 6s 80ms/step - loss: nan - acc: 0.0519 - val_loss: nan - val_acc: 0.0472\n",
            "Epoch 30/100\n",
            "69/69 [==============================] - 6s 80ms/step - loss: nan - acc: 0.0519 - val_loss: nan - val_acc: 0.0472\n",
            "Epoch 31/100\n",
            "69/69 [==============================] - 6s 80ms/step - loss: nan - acc: 0.0519 - val_loss: nan - val_acc: 0.0472\n",
            "Epoch 32/100\n",
            "69/69 [==============================] - 6s 81ms/step - loss: nan - acc: 0.0519 - val_loss: nan - val_acc: 0.0472\n",
            "Epoch 33/100\n",
            "69/69 [==============================] - 6s 80ms/step - loss: nan - acc: 0.0519 - val_loss: nan - val_acc: 0.0472\n",
            "Epoch 34/100\n",
            "69/69 [==============================] - 6s 80ms/step - loss: nan - acc: 0.0519 - val_loss: nan - val_acc: 0.0472\n",
            "Epoch 35/100\n",
            "69/69 [==============================] - 6s 80ms/step - loss: nan - acc: 0.0519 - val_loss: nan - val_acc: 0.0472\n",
            "Epoch 36/100\n",
            "69/69 [==============================] - 6s 81ms/step - loss: nan - acc: 0.0519 - val_loss: nan - val_acc: 0.0472\n",
            "Epoch 37/100\n",
            "69/69 [==============================] - 6s 82ms/step - loss: nan - acc: 0.0519 - val_loss: nan - val_acc: 0.0472\n",
            "Epoch 38/100\n",
            "69/69 [==============================] - 6s 81ms/step - loss: nan - acc: 0.0519 - val_loss: nan - val_acc: 0.0472\n",
            "Epoch 39/100\n",
            "69/69 [==============================] - 5s 80ms/step - loss: nan - acc: 0.0519 - val_loss: nan - val_acc: 0.0472\n",
            "Epoch 40/100\n",
            "69/69 [==============================] - 6s 80ms/step - loss: nan - acc: 0.0519 - val_loss: nan - val_acc: 0.0472\n",
            "Epoch 41/100\n",
            "69/69 [==============================] - 6s 81ms/step - loss: nan - acc: 0.0519 - val_loss: nan - val_acc: 0.0472\n",
            "Epoch 42/100\n",
            "69/69 [==============================] - 6s 84ms/step - loss: nan - acc: 0.0519 - val_loss: nan - val_acc: 0.0472\n",
            "Epoch 43/100\n",
            "69/69 [==============================] - 6s 85ms/step - loss: nan - acc: 0.0519 - val_loss: nan - val_acc: 0.0472\n",
            "Epoch 44/100\n",
            "69/69 [==============================] - 6s 81ms/step - loss: nan - acc: 0.0519 - val_loss: nan - val_acc: 0.0472\n",
            "Epoch 45/100\n",
            "69/69 [==============================] - 6s 84ms/step - loss: nan - acc: 0.0519 - val_loss: nan - val_acc: 0.0472\n",
            "Epoch 46/100\n",
            "69/69 [==============================] - 6s 81ms/step - loss: nan - acc: 0.0519 - val_loss: nan - val_acc: 0.0472\n",
            "Epoch 47/100\n",
            "69/69 [==============================] - 6s 80ms/step - loss: nan - acc: 0.0519 - val_loss: nan - val_acc: 0.0472\n",
            "Epoch 48/100\n",
            "69/69 [==============================] - 6s 81ms/step - loss: nan - acc: 0.0519 - val_loss: nan - val_acc: 0.0472\n",
            "Epoch 49/100\n",
            "69/69 [==============================] - 6s 81ms/step - loss: nan - acc: 0.0519 - val_loss: nan - val_acc: 0.0472\n",
            "Epoch 50/100\n",
            "69/69 [==============================] - 6s 81ms/step - loss: nan - acc: 0.0519 - val_loss: nan - val_acc: 0.0472\n",
            "Epoch 51/100\n",
            "69/69 [==============================] - 5s 80ms/step - loss: nan - acc: 0.0519 - val_loss: nan - val_acc: 0.0472\n",
            "Epoch 52/100\n",
            "69/69 [==============================] - 6s 81ms/step - loss: nan - acc: 0.0519 - val_loss: nan - val_acc: 0.0472\n",
            "Epoch 53/100\n",
            "69/69 [==============================] - 6s 82ms/step - loss: nan - acc: 0.0519 - val_loss: nan - val_acc: 0.0472\n",
            "Epoch 54/100\n",
            "69/69 [==============================] - 5s 79ms/step - loss: nan - acc: 0.0519 - val_loss: nan - val_acc: 0.0472\n",
            "Epoch 55/100\n",
            "69/69 [==============================] - 6s 80ms/step - loss: nan - acc: 0.0519 - val_loss: nan - val_acc: 0.0472\n",
            "Epoch 56/100\n",
            "69/69 [==============================] - 5s 80ms/step - loss: nan - acc: 0.0519 - val_loss: nan - val_acc: 0.0472\n",
            "Epoch 57/100\n",
            "69/69 [==============================] - 6s 81ms/step - loss: nan - acc: 0.0519 - val_loss: nan - val_acc: 0.0472\n",
            "Epoch 58/100\n",
            "69/69 [==============================] - 6s 81ms/step - loss: nan - acc: 0.0519 - val_loss: nan - val_acc: 0.0472\n",
            "Epoch 59/100\n",
            "69/69 [==============================] - 6s 81ms/step - loss: nan - acc: 0.0519 - val_loss: nan - val_acc: 0.0472\n",
            "Epoch 60/100\n",
            "69/69 [==============================] - 6s 81ms/step - loss: nan - acc: 0.0519 - val_loss: nan - val_acc: 0.0472\n",
            "Epoch 61/100\n",
            "69/69 [==============================] - 6s 81ms/step - loss: nan - acc: 0.0519 - val_loss: nan - val_acc: 0.0472\n",
            "Epoch 62/100\n",
            "69/69 [==============================] - 6s 81ms/step - loss: nan - acc: 0.0519 - val_loss: nan - val_acc: 0.0472\n",
            "Epoch 63/100\n",
            "69/69 [==============================] - 6s 81ms/step - loss: nan - acc: 0.0519 - val_loss: nan - val_acc: 0.0472\n",
            "Epoch 64/100\n",
            "69/69 [==============================] - 6s 81ms/step - loss: nan - acc: 0.0519 - val_loss: nan - val_acc: 0.0472\n",
            "Epoch 65/100\n",
            "69/69 [==============================] - 6s 81ms/step - loss: nan - acc: 0.0519 - val_loss: nan - val_acc: 0.0472\n",
            "Epoch 66/100\n",
            "69/69 [==============================] - 6s 80ms/step - loss: nan - acc: 0.0519 - val_loss: nan - val_acc: 0.0472\n",
            "Epoch 67/100\n",
            "69/69 [==============================] - 6s 80ms/step - loss: nan - acc: 0.0519 - val_loss: nan - val_acc: 0.0472\n",
            "Epoch 68/100\n",
            "69/69 [==============================] - 6s 81ms/step - loss: nan - acc: 0.0519 - val_loss: nan - val_acc: 0.0472\n",
            "Epoch 69/100\n",
            "69/69 [==============================] - 6s 81ms/step - loss: nan - acc: 0.0519 - val_loss: nan - val_acc: 0.0472\n",
            "Epoch 70/100\n",
            "69/69 [==============================] - 6s 80ms/step - loss: nan - acc: 0.0519 - val_loss: nan - val_acc: 0.0472\n",
            "Epoch 71/100\n",
            "69/69 [==============================] - 6s 80ms/step - loss: nan - acc: 0.0519 - val_loss: nan - val_acc: 0.0472\n",
            "Epoch 72/100\n",
            "69/69 [==============================] - 6s 81ms/step - loss: nan - acc: 0.0519 - val_loss: nan - val_acc: 0.0472\n",
            "Epoch 73/100\n",
            "69/69 [==============================] - 6s 82ms/step - loss: nan - acc: 0.0519 - val_loss: nan - val_acc: 0.0472\n",
            "Epoch 74/100\n",
            "69/69 [==============================] - 6s 82ms/step - loss: nan - acc: 0.0519 - val_loss: nan - val_acc: 0.0472\n",
            "Epoch 75/100\n",
            "69/69 [==============================] - 6s 87ms/step - loss: nan - acc: 0.0519 - val_loss: nan - val_acc: 0.0472\n",
            "Epoch 76/100\n",
            "69/69 [==============================] - 6s 81ms/step - loss: nan - acc: 0.0519 - val_loss: nan - val_acc: 0.0472\n",
            "Epoch 77/100\n",
            "69/69 [==============================] - 6s 81ms/step - loss: nan - acc: 0.0519 - val_loss: nan - val_acc: 0.0472\n",
            "Epoch 78/100\n",
            "69/69 [==============================] - 6s 80ms/step - loss: nan - acc: 0.0519 - val_loss: nan - val_acc: 0.0472\n",
            "Epoch 79/100\n",
            "69/69 [==============================] - 5s 79ms/step - loss: nan - acc: 0.0519 - val_loss: nan - val_acc: 0.0472\n",
            "Epoch 80/100\n",
            "69/69 [==============================] - 6s 81ms/step - loss: nan - acc: 0.0519 - val_loss: nan - val_acc: 0.0472\n",
            "Epoch 81/100\n",
            "69/69 [==============================] - 6s 81ms/step - loss: nan - acc: 0.0519 - val_loss: nan - val_acc: 0.0472\n",
            "Epoch 82/100\n",
            "69/69 [==============================] - 6s 80ms/step - loss: nan - acc: 0.0519 - val_loss: nan - val_acc: 0.0472\n",
            "Epoch 83/100\n",
            "69/69 [==============================] - 5s 80ms/step - loss: nan - acc: 0.0519 - val_loss: nan - val_acc: 0.0472\n",
            "Epoch 84/100\n",
            "69/69 [==============================] - 6s 81ms/step - loss: nan - acc: 0.0519 - val_loss: nan - val_acc: 0.0472\n",
            "Epoch 85/100\n",
            "69/69 [==============================] - 6s 80ms/step - loss: nan - acc: 0.0519 - val_loss: nan - val_acc: 0.0472\n",
            "Epoch 86/100\n",
            "69/69 [==============================] - 6s 81ms/step - loss: nan - acc: 0.0519 - val_loss: nan - val_acc: 0.0472\n",
            "Epoch 87/100\n",
            "69/69 [==============================] - 6s 81ms/step - loss: nan - acc: 0.0519 - val_loss: nan - val_acc: 0.0472\n",
            "Epoch 88/100\n",
            "69/69 [==============================] - 6s 82ms/step - loss: nan - acc: 0.0519 - val_loss: nan - val_acc: 0.0472\n",
            "Epoch 89/100\n",
            "69/69 [==============================] - 6s 81ms/step - loss: nan - acc: 0.0519 - val_loss: nan - val_acc: 0.0472\n",
            "Epoch 90/100\n",
            "69/69 [==============================] - 5s 80ms/step - loss: nan - acc: 0.0519 - val_loss: nan - val_acc: 0.0472\n",
            "Epoch 91/100\n",
            "69/69 [==============================] - 6s 81ms/step - loss: nan - acc: 0.0519 - val_loss: nan - val_acc: 0.0472\n",
            "Epoch 92/100\n",
            "69/69 [==============================] - 6s 81ms/step - loss: nan - acc: 0.0519 - val_loss: nan - val_acc: 0.0472\n",
            "Epoch 93/100\n",
            "69/69 [==============================] - 6s 80ms/step - loss: nan - acc: 0.0519 - val_loss: nan - val_acc: 0.0472\n",
            "Epoch 94/100\n",
            "69/69 [==============================] - 6s 80ms/step - loss: nan - acc: 0.0519 - val_loss: nan - val_acc: 0.0472\n",
            "Epoch 95/100\n",
            "69/69 [==============================] - 5s 79ms/step - loss: nan - acc: 0.0519 - val_loss: nan - val_acc: 0.0472\n",
            "Epoch 96/100\n",
            "69/69 [==============================] - 6s 81ms/step - loss: nan - acc: 0.0519 - val_loss: nan - val_acc: 0.0472\n",
            "Epoch 97/100\n",
            "69/69 [==============================] - 6s 81ms/step - loss: nan - acc: 0.0519 - val_loss: nan - val_acc: 0.0472\n",
            "Epoch 98/100\n",
            "69/69 [==============================] - 6s 81ms/step - loss: nan - acc: 0.0519 - val_loss: nan - val_acc: 0.0472\n",
            "Epoch 99/100\n",
            "69/69 [==============================] - 6s 81ms/step - loss: nan - acc: 0.0519 - val_loss: nan - val_acc: 0.0472\n",
            "Epoch 100/100\n",
            "69/69 [==============================] - 6s 81ms/step - loss: nan - acc: 0.0519 - val_loss: nan - val_acc: 0.0472\n"
          ]
        }
      ]
    },
    {
      "cell_type": "code",
      "metadata": {
        "id": "Lu8gNHfg5umn",
        "colab": {
          "base_uri": "https://localhost:8080/"
        },
        "outputId": "eab52c9e-5b62-46c9-ae87-7ef6dfbfd9b0"
      },
      "source": [
        "from sklearn.metrics import classification_report\n",
        "\n",
        "pred = model.predict(x_val)\n",
        "labels = (pred > 0.5).astype(np.int)\n",
        "print(classification_report(y_val, labels))"
      ],
      "execution_count": 29,
      "outputs": [
        {
          "output_type": "stream",
          "name": "stdout",
          "text": [
            "              precision    recall  f1-score   support\n",
            "\n",
            "           0       0.05      1.00      0.09        44\n",
            "           1       0.00      0.00      0.00        57\n",
            "           2       0.00      0.00      0.00        42\n",
            "           3       0.00      0.00      0.00        43\n",
            "           4       0.00      0.00      0.00        40\n",
            "           5       0.00      0.00      0.00        51\n",
            "           6       0.00      0.00      0.00        43\n",
            "           7       0.00      0.00      0.00        65\n",
            "           8       0.00      0.00      0.00        51\n",
            "           9       0.00      0.00      0.00        43\n",
            "          10       0.00      0.00      0.00        44\n",
            "          11       0.00      0.00      0.00        43\n",
            "          12       0.00      0.00      0.00        41\n",
            "          13       0.00      0.00      0.00        44\n",
            "          14       0.00      0.00      0.00        52\n",
            "          15       0.00      0.00      0.00        12\n",
            "          16       0.00      0.00      0.00        18\n",
            "          17       0.00      0.00      0.00        21\n",
            "          18       0.00      0.00      0.00        23\n",
            "          19       0.00      0.00      0.00        26\n",
            "          20       0.00      0.00      0.00        60\n",
            "          21       0.00      0.00      0.00        22\n",
            "          22       0.00      0.00      0.00        19\n",
            "          23       0.00      0.00      0.00        29\n",
            "\n",
            "    accuracy                           0.05       933\n",
            "   macro avg       0.00      0.04      0.00       933\n",
            "weighted avg       0.00      0.05      0.00       933\n",
            "\n"
          ]
        },
        {
          "output_type": "stream",
          "name": "stderr",
          "text": [
            "/usr/local/lib/python3.7/dist-packages/sklearn/metrics/_classification.py:1272: UndefinedMetricWarning: Precision and F-score are ill-defined and being set to 0.0 in labels with no predicted samples. Use `zero_division` parameter to control this behavior.\n",
            "  _warn_prf(average, modifier, msg_start, len(result))\n"
          ]
        }
      ]
    },
    {
      "cell_type": "code",
      "metadata": {
        "id": "Bu_5YRjbq8PA"
      },
      "source": [
        "import pickle\n",
        "model.save('model.h5')"
      ],
      "execution_count": 30,
      "outputs": []
    },
    {
      "cell_type": "code",
      "metadata": {
        "id": "dv1rUh3KIjPr"
      },
      "source": [
        "model2.save('model.h5')"
      ],
      "execution_count": 32,
      "outputs": []
    }
  ]
}